{
 "cells": [
  {
   "cell_type": "code",
   "execution_count": 1,
   "metadata": {},
   "outputs": [],
   "source": [
    "import pandas as pd\n",
    "import numpy as np"
   ]
  },
  {
   "cell_type": "code",
   "execution_count": 2,
   "metadata": {},
   "outputs": [],
   "source": [
    "#한글파일 읽어오면 utf-8 관련 에러발생\n",
    "#encoding= 'ISO-8859-1' 추가하면 에러는 피할 수 있지만 한글은 여전히 깨짐\n",
    "#engine = 'python' 추가하면 에러도 피하고 한글도 안 깨짐\n",
    "\n",
    "autumn = pd.read_csv('data/all_autumn.csv', engine = 'python')"
   ]
  },
  {
   "cell_type": "code",
   "execution_count": 3,
   "metadata": {},
   "outputs": [
    {
     "data": {
      "text/html": [
       "<div>\n",
       "<style scoped>\n",
       "    .dataframe tbody tr th:only-of-type {\n",
       "        vertical-align: middle;\n",
       "    }\n",
       "\n",
       "    .dataframe tbody tr th {\n",
       "        vertical-align: top;\n",
       "    }\n",
       "\n",
       "    .dataframe thead th {\n",
       "        text-align: right;\n",
       "    }\n",
       "</style>\n",
       "<table border=\"1\" class=\"dataframe\">\n",
       "  <thead>\n",
       "    <tr style=\"text-align: right;\">\n",
       "      <th></th>\n",
       "      <th>도서명</th>\n",
       "      <th>부제목</th>\n",
       "      <th>출간일</th>\n",
       "      <th>분야</th>\n",
       "      <th>정가</th>\n",
       "      <th>평점</th>\n",
       "      <th>쪽수</th>\n",
       "      <th>eBook 여부</th>\n",
       "      <th>제목 길이</th>\n",
       "      <th>순위</th>\n",
       "      <th>베스트셀러 여부</th>\n",
       "    </tr>\n",
       "  </thead>\n",
       "  <tbody>\n",
       "    <tr>\n",
       "      <th>0</th>\n",
       "      <td>언어의 온도(3주년 150만부 기념 에디션)</td>\n",
       "      <td>말과 글에는 나름의 따뜻함과 차가움이 있다</td>\n",
       "      <td>20160819.0</td>\n",
       "      <td>시/에세이</td>\n",
       "      <td>13800.0</td>\n",
       "      <td>8.8</td>\n",
       "      <td>308</td>\n",
       "      <td>1</td>\n",
       "      <td>6</td>\n",
       "      <td>1</td>\n",
       "      <td>1</td>\n",
       "    </tr>\n",
       "    <tr>\n",
       "      <th>1</th>\n",
       "      <td>살인자의 기억법</td>\n",
       "      <td>김영하 장편소설</td>\n",
       "      <td>20130725.0</td>\n",
       "      <td>소설</td>\n",
       "      <td>10000.0</td>\n",
       "      <td>9.1</td>\n",
       "      <td>176</td>\n",
       "      <td>1</td>\n",
       "      <td>8</td>\n",
       "      <td>2</td>\n",
       "      <td>1</td>\n",
       "    </tr>\n",
       "    <tr>\n",
       "      <th>2</th>\n",
       "      <td>82년생 김지영(오늘의 젊은 작가 13)(양장본 HardCover)</td>\n",
       "      <td>조남주 장편소설</td>\n",
       "      <td>20161014.0</td>\n",
       "      <td>소설</td>\n",
       "      <td>13000.0</td>\n",
       "      <td>8.9</td>\n",
       "      <td>192</td>\n",
       "      <td>1</td>\n",
       "      <td>8</td>\n",
       "      <td>3</td>\n",
       "      <td>1</td>\n",
       "    </tr>\n",
       "    <tr>\n",
       "      <th>3</th>\n",
       "      <td>말의 품격</td>\n",
       "      <td>말과 사람과 품격에 대한 생각들</td>\n",
       "      <td>20190318.0</td>\n",
       "      <td>인문</td>\n",
       "      <td>14500.0</td>\n",
       "      <td>8.7</td>\n",
       "      <td>232</td>\n",
       "      <td>1</td>\n",
       "      <td>5</td>\n",
       "      <td>4</td>\n",
       "      <td>1</td>\n",
       "    </tr>\n",
       "    <tr>\n",
       "      <th>4</th>\n",
       "      <td>나는 나로 살기로 했다</td>\n",
       "      <td>NaN</td>\n",
       "      <td>20200316.0</td>\n",
       "      <td>시/에세이</td>\n",
       "      <td>13800.0</td>\n",
       "      <td>9.0</td>\n",
       "      <td>288</td>\n",
       "      <td>1</td>\n",
       "      <td>12</td>\n",
       "      <td>5</td>\n",
       "      <td>1</td>\n",
       "    </tr>\n",
       "  </tbody>\n",
       "</table>\n",
       "</div>"
      ],
      "text/plain": [
       "                                     도서명                      부제목         출간일  \\\n",
       "0               언어의 온도(3주년 150만부 기념 에디션)  말과 글에는 나름의 따뜻함과 차가움이 있다  20160819.0   \n",
       "1                               살인자의 기억법                 김영하 장편소설  20130725.0   \n",
       "2  82년생 김지영(오늘의 젊은 작가 13)(양장본 HardCover)                 조남주 장편소설  20161014.0   \n",
       "3                                  말의 품격        말과 사람과 품격에 대한 생각들  20190318.0   \n",
       "4                           나는 나로 살기로 했다                      NaN  20200316.0   \n",
       "\n",
       "      분야       정가   평점   쪽수  eBook 여부  제목 길이  순위  베스트셀러 여부  \n",
       "0  시/에세이  13800.0  8.8  308         1      6   1         1  \n",
       "1     소설  10000.0  9.1  176         1      8   2         1  \n",
       "2     소설  13000.0  8.9  192         1      8   3         1  \n",
       "3     인문  14500.0  8.7  232         1      5   4         1  \n",
       "4  시/에세이  13800.0  9.0  288         1     12   5         1  "
      ]
     },
     "execution_count": 3,
     "metadata": {},
     "output_type": "execute_result"
    }
   ],
   "source": [
    "autumn.head()"
   ]
  },
  {
   "cell_type": "code",
   "execution_count": 4,
   "metadata": {},
   "outputs": [],
   "source": [
    "autumn.loc[autumn['분야'] == '소설', '분야'] = 1\n",
    "autumn.loc[autumn['분야'] == '시/에세이', '분야'] = 2\n",
    "autumn.loc[autumn['분야'] == '인문', '분야'] = 3\n",
    "autumn.loc[autumn['분야'] == '가정/육아', '분야'] = 4\n",
    "autumn.loc[autumn['분야'] == '요리', '분야'] = 5\n",
    "autumn.loc[autumn['분야'] == '건강', '분야'] = 6\n",
    "autumn.loc[autumn['분야'] == '취미/실용/스포츠', '분야'] = 7\n",
    "autumn.loc[autumn['분야'] == '경제/경영', '분야'] = 8\n",
    "autumn.loc[autumn['분야'] == '자기계발', '분야'] = 9\n",
    "autumn.loc[autumn['분야'] == '정치/사회', '분야'] = 10\n",
    "autumn.loc[autumn['분야'] == '역사/문화', '분야'] = 11\n",
    "autumn.loc[autumn['분야'] == '종교', '분야'] = 11\n",
    "autumn.loc[autumn['분야'] == '예술/대중문화', '분야'] = 11\n",
    "autumn.loc[autumn['분야'] == '한국소개도서', '분야'] = 11\n",
    "autumn.loc[autumn['분야'] == '중/고등참고서', '분야'] = 12\n",
    "autumn.loc[autumn['분야'] == '대학교재', '분야'] = 12\n",
    "autumn.loc[autumn['분야'] == '기술/공학', '분야'] = 13\n",
    "autumn.loc[autumn['분야'] == '컴퓨터/IT', '분야'] = 13\n",
    "autumn.loc[autumn['분야'] == '외국어', '분야'] = 14\n",
    "autumn.loc[autumn['분야'] == '여행', '분야'] = 14\n",
    "autumn.loc[autumn['분야'] == '과학', '분야'] = 15\n",
    "autumn.loc[autumn['분야'] == '취업/수험서', '분야'] = 16\n",
    "autumn.loc[autumn['분야'] == '잡지', '분야'] = 17\n",
    "autumn.loc[autumn['분야'] == '만화', '분야'] = 17\n",
    "autumn.loc[autumn['분야'] == ':K컬렉션', '분야'] = 17\n",
    "autumn.loc[autumn['분야'] == '청소년', '분야'] = 18\n",
    "autumn.loc[autumn['분야'] == '초등참고서', '분야'] = 19\n",
    "autumn.loc[autumn['분야'] == '어린이(초등)', '분야'] = 19\n",
    "autumn.loc[autumn['분야'] == '어린이전집', '분야'] = 19\n",
    "autumn.loc[autumn['분야'] == '어린이영어', '분야'] = 19\n",
    "autumn.loc[autumn['분야'] == '유아(0~7세)', '분야'] = 20\n",
    "# autumn.loc[autumn['분야'] == '', '분야'] = 0\n",
    "autumn.loc[autumn['분야'].isnull(), '분야'] = 0"
   ]
  },
  {
   "cell_type": "code",
   "execution_count": 5,
   "metadata": {},
   "outputs": [],
   "source": [
    "# 각 분야 별 합계 구하기\n",
    "category = ['기타', '소설', '시/에세이', '인문', '가정/육아', '요리', '건강', '취미/실용/스포츠', '경제/경영', '자기계발', '정치/사회', '역사/문화, 종교, 예술/대중문화, 한국소개도서',\n",
    "            '기술/공학, 컴퓨터/IT', '외국어, 여행', '과학', '취업/수험서',\n",
    "        '잡지, 만화, :K컬렉션', '초등참고서, 어린이(초등), 어린이전집, 어린이영어', '유아(0~7세)']"
   ]
  },
  {
   "cell_type": "code",
   "execution_count": 6,
   "metadata": {
    "scrolled": true
   },
   "outputs": [
    {
     "data": {
      "text/plain": [
       "0      11\n",
       "1     510\n",
       "2     400\n",
       "3     435\n",
       "4      81\n",
       "5      45\n",
       "6      54\n",
       "7      61\n",
       "8     358\n",
       "9     217\n",
       "10     85\n",
       "11    239\n",
       "13    171\n",
       "14    166\n",
       "15     94\n",
       "16    194\n",
       "17    122\n",
       "19    187\n",
       "20    126\n",
       "Name: 분야, dtype: int64"
      ]
     },
     "execution_count": 6,
     "metadata": {},
     "output_type": "execute_result"
    }
   ],
   "source": [
    "catValue = autumn['분야'].value_counts().sort_index()\n",
    "catValue"
   ]
  },
  {
   "cell_type": "code",
   "execution_count": 7,
   "metadata": {},
   "outputs": [
    {
     "name": "stdout",
     "output_type": "stream",
     "text": [
      "0      11\n",
      "1     510\n",
      "2     400\n",
      "3     435\n",
      "4      81\n",
      "5      45\n",
      "6      54\n",
      "7      61\n",
      "8     358\n",
      "9     217\n",
      "10     85\n",
      "11    239\n",
      "13    171\n",
      "14    166\n",
      "15     94\n",
      "16    194\n",
      "17    122\n",
      "19    187\n",
      "20    126\n",
      "Name: 분야, dtype: int64\n",
      "['기타', '소설', '시/에세이', '인문', '가정/육아', '요리', '건강', '취미/실용/스포츠', '경제/경영', '자기계발', '정치/사회', '역사/문화, 종교, 예술/대중문화, 한국소개도서', '기술/공학, 컴퓨터/IT', '외국어, 여행', '과학', '취업/수험서', '잡지, 만화, :K컬렉션', '초등참고서, 어린이(초등), 어린이전집, 어린이영어', '유아(0~7세)']\n"
     ]
    }
   ],
   "source": [
    "print(catValue)\n",
    "print(category)"
   ]
  },
  {
   "cell_type": "code",
   "execution_count": 8,
   "metadata": {},
   "outputs": [
    {
     "name": "stdout",
     "output_type": "stream",
     "text": [
      "19\n",
      "19\n"
     ]
    }
   ],
   "source": [
    "data_l = []\n",
    "for i in catValue:\n",
    "    data_l.append(i)\n",
    "    \n",
    "print(len(data_l))\n",
    "print(len(category))"
   ]
  },
  {
   "cell_type": "code",
   "execution_count": 9,
   "metadata": {},
   "outputs": [
    {
     "data": {
      "text/html": [
       "<div>\n",
       "<style scoped>\n",
       "    .dataframe tbody tr th:only-of-type {\n",
       "        vertical-align: middle;\n",
       "    }\n",
       "\n",
       "    .dataframe tbody tr th {\n",
       "        vertical-align: top;\n",
       "    }\n",
       "\n",
       "    .dataframe thead th {\n",
       "        text-align: right;\n",
       "    }\n",
       "</style>\n",
       "<table border=\"1\" class=\"dataframe\">\n",
       "  <thead>\n",
       "    <tr style=\"text-align: right;\">\n",
       "      <th></th>\n",
       "      <th>도서명</th>\n",
       "      <th>부제목</th>\n",
       "      <th>출간일</th>\n",
       "      <th>분야</th>\n",
       "      <th>정가</th>\n",
       "      <th>평점</th>\n",
       "      <th>쪽수</th>\n",
       "      <th>eBook 여부</th>\n",
       "      <th>제목 길이</th>\n",
       "      <th>순위</th>\n",
       "      <th>베스트셀러 여부</th>\n",
       "    </tr>\n",
       "  </thead>\n",
       "  <tbody>\n",
       "    <tr>\n",
       "      <th>0</th>\n",
       "      <td>언어의 온도(3주년 150만부 기념 에디션)</td>\n",
       "      <td>말과 글에는 나름의 따뜻함과 차가움이 있다</td>\n",
       "      <td>20160819.0</td>\n",
       "      <td>2</td>\n",
       "      <td>13800.0</td>\n",
       "      <td>8.8</td>\n",
       "      <td>308</td>\n",
       "      <td>1</td>\n",
       "      <td>6</td>\n",
       "      <td>1</td>\n",
       "      <td>1</td>\n",
       "    </tr>\n",
       "    <tr>\n",
       "      <th>1</th>\n",
       "      <td>살인자의 기억법</td>\n",
       "      <td>김영하 장편소설</td>\n",
       "      <td>20130725.0</td>\n",
       "      <td>1</td>\n",
       "      <td>10000.0</td>\n",
       "      <td>9.1</td>\n",
       "      <td>176</td>\n",
       "      <td>1</td>\n",
       "      <td>8</td>\n",
       "      <td>2</td>\n",
       "      <td>1</td>\n",
       "    </tr>\n",
       "    <tr>\n",
       "      <th>2</th>\n",
       "      <td>82년생 김지영(오늘의 젊은 작가 13)(양장본 HardCover)</td>\n",
       "      <td>조남주 장편소설</td>\n",
       "      <td>20161014.0</td>\n",
       "      <td>1</td>\n",
       "      <td>13000.0</td>\n",
       "      <td>8.9</td>\n",
       "      <td>192</td>\n",
       "      <td>1</td>\n",
       "      <td>8</td>\n",
       "      <td>3</td>\n",
       "      <td>1</td>\n",
       "    </tr>\n",
       "    <tr>\n",
       "      <th>3</th>\n",
       "      <td>말의 품격</td>\n",
       "      <td>말과 사람과 품격에 대한 생각들</td>\n",
       "      <td>20190318.0</td>\n",
       "      <td>3</td>\n",
       "      <td>14500.0</td>\n",
       "      <td>8.7</td>\n",
       "      <td>232</td>\n",
       "      <td>1</td>\n",
       "      <td>5</td>\n",
       "      <td>4</td>\n",
       "      <td>1</td>\n",
       "    </tr>\n",
       "    <tr>\n",
       "      <th>4</th>\n",
       "      <td>나는 나로 살기로 했다</td>\n",
       "      <td>NaN</td>\n",
       "      <td>20200316.0</td>\n",
       "      <td>2</td>\n",
       "      <td>13800.0</td>\n",
       "      <td>9.0</td>\n",
       "      <td>288</td>\n",
       "      <td>1</td>\n",
       "      <td>12</td>\n",
       "      <td>5</td>\n",
       "      <td>1</td>\n",
       "    </tr>\n",
       "  </tbody>\n",
       "</table>\n",
       "</div>"
      ],
      "text/plain": [
       "                                     도서명                      부제목         출간일  \\\n",
       "0               언어의 온도(3주년 150만부 기념 에디션)  말과 글에는 나름의 따뜻함과 차가움이 있다  20160819.0   \n",
       "1                               살인자의 기억법                 김영하 장편소설  20130725.0   \n",
       "2  82년생 김지영(오늘의 젊은 작가 13)(양장본 HardCover)                 조남주 장편소설  20161014.0   \n",
       "3                                  말의 품격        말과 사람과 품격에 대한 생각들  20190318.0   \n",
       "4                           나는 나로 살기로 했다                      NaN  20200316.0   \n",
       "\n",
       "  분야       정가   평점   쪽수  eBook 여부  제목 길이  순위  베스트셀러 여부  \n",
       "0  2  13800.0  8.8  308         1      6   1         1  \n",
       "1  1  10000.0  9.1  176         1      8   2         1  \n",
       "2  1  13000.0  8.9  192         1      8   3         1  \n",
       "3  3  14500.0  8.7  232         1      5   4         1  \n",
       "4  2  13800.0  9.0  288         1     12   5         1  "
      ]
     },
     "execution_count": 9,
     "metadata": {},
     "output_type": "execute_result"
    }
   ],
   "source": [
    "autumn.head()"
   ]
  },
  {
   "cell_type": "code",
   "execution_count": 10,
   "metadata": {
    "scrolled": true
   },
   "outputs": [
    {
     "data": {
      "text/html": [
       "<div>\n",
       "<style scoped>\n",
       "    .dataframe tbody tr th:only-of-type {\n",
       "        vertical-align: middle;\n",
       "    }\n",
       "\n",
       "    .dataframe tbody tr th {\n",
       "        vertical-align: top;\n",
       "    }\n",
       "\n",
       "    .dataframe thead th {\n",
       "        text-align: right;\n",
       "    }\n",
       "</style>\n",
       "<table border=\"1\" class=\"dataframe\">\n",
       "  <thead>\n",
       "    <tr style=\"text-align: right;\">\n",
       "      <th></th>\n",
       "      <th>도서명</th>\n",
       "      <th>부제목</th>\n",
       "      <th>출간일</th>\n",
       "      <th>분야</th>\n",
       "      <th>정가</th>\n",
       "      <th>평점</th>\n",
       "      <th>쪽수</th>\n",
       "      <th>eBook 여부</th>\n",
       "      <th>제목 길이</th>\n",
       "      <th>순위</th>\n",
       "      <th>베스트셀러 여부</th>\n",
       "    </tr>\n",
       "  </thead>\n",
       "  <tbody>\n",
       "    <tr>\n",
       "      <th>3551</th>\n",
       "      <td>부자의 원리(부동산 부자들만 은밀히 공유하는)</td>\n",
       "      <td>국내외 유명 부동산 부자들의 성공투자 분석</td>\n",
       "      <td>20191028.0</td>\n",
       "      <td>8</td>\n",
       "      <td>15000.0</td>\n",
       "      <td>10.0</td>\n",
       "      <td>320</td>\n",
       "      <td>1</td>\n",
       "      <td>6</td>\n",
       "      <td>0</td>\n",
       "      <td>0</td>\n",
       "    </tr>\n",
       "    <tr>\n",
       "      <th>3552</th>\n",
       "      <td>애견 미용 강아지 헤어 스타일북 세트(Pet’s Better Life)(전2권)</td>\n",
       "      <td>강아지 헤어 스타일북 BOY + GIRL</td>\n",
       "      <td>20191105.0</td>\n",
       "      <td>7</td>\n",
       "      <td>24000.0</td>\n",
       "      <td>0.0</td>\n",
       "      <td>192</td>\n",
       "      <td>0</td>\n",
       "      <td>20</td>\n",
       "      <td>0</td>\n",
       "      <td>0</td>\n",
       "    </tr>\n",
       "    <tr>\n",
       "      <th>3553</th>\n",
       "      <td>돈 까밀로의 작은 세상(리커버 특별판)(신부님 우리들의 신부님 7)</td>\n",
       "      <td>NaN</td>\n",
       "      <td>20191115.0</td>\n",
       "      <td>1</td>\n",
       "      <td>12900.0</td>\n",
       "      <td>0.0</td>\n",
       "      <td>320</td>\n",
       "      <td>0</td>\n",
       "      <td>12</td>\n",
       "      <td>0</td>\n",
       "      <td>0</td>\n",
       "    </tr>\n",
       "    <tr>\n",
       "      <th>3554</th>\n",
       "      <td>행정법총론  SOS(2020)(써니)(3판)(전2권)</td>\n",
       "      <td>Summary Of Sunny, 써니 요약집\\n\\t\\t\\t\\t\\t\\t\\t\\n\\t\\t...</td>\n",
       "      <td>20191120.0</td>\n",
       "      <td>16</td>\n",
       "      <td>23000.0</td>\n",
       "      <td>9.9</td>\n",
       "      <td>520</td>\n",
       "      <td>0</td>\n",
       "      <td>10</td>\n",
       "      <td>0</td>\n",
       "      <td>0</td>\n",
       "    </tr>\n",
       "    <tr>\n",
       "      <th>3555</th>\n",
       "      <td>파워레인저 다이노소울 두들색칠북(색칠북)</td>\n",
       "      <td>쓱쓱~ 물로 그리는 요술색칠!</td>\n",
       "      <td>20191020.0</td>\n",
       "      <td>20</td>\n",
       "      <td>9000.0</td>\n",
       "      <td>0.0</td>\n",
       "      <td>1</td>\n",
       "      <td>0</td>\n",
       "      <td>17</td>\n",
       "      <td>0</td>\n",
       "      <td>0</td>\n",
       "    </tr>\n",
       "  </tbody>\n",
       "</table>\n",
       "</div>"
      ],
      "text/plain": [
       "                                               도서명  \\\n",
       "3551                     부자의 원리(부동산 부자들만 은밀히 공유하는)   \n",
       "3552  애견 미용 강아지 헤어 스타일북 세트(Pet’s Better Life)(전2권)   \n",
       "3553         돈 까밀로의 작은 세상(리커버 특별판)(신부님 우리들의 신부님 7)   \n",
       "3554                 행정법총론  SOS(2020)(써니)(3판)(전2권)   \n",
       "3555                        파워레인저 다이노소울 두들색칠북(색칠북)   \n",
       "\n",
       "                                                    부제목         출간일  분야  \\\n",
       "3551                            국내외 유명 부동산 부자들의 성공투자 분석  20191028.0   8   \n",
       "3552                             강아지 헤어 스타일북 BOY + GIRL  20191105.0   7   \n",
       "3553                                                NaN  20191115.0   1   \n",
       "3554  Summary Of Sunny, 써니 요약집\\n\\t\\t\\t\\t\\t\\t\\t\\n\\t\\t...  20191120.0  16   \n",
       "3555                                   쓱쓱~ 물로 그리는 요술색칠!  20191020.0  20   \n",
       "\n",
       "           정가    평점   쪽수  eBook 여부  제목 길이  순위  베스트셀러 여부  \n",
       "3551  15000.0  10.0  320         1      6   0         0  \n",
       "3552  24000.0   0.0  192         0     20   0         0  \n",
       "3553  12900.0   0.0  320         0     12   0         0  \n",
       "3554  23000.0   9.9  520         0     10   0         0  \n",
       "3555   9000.0   0.0    1         0     17   0         0  "
      ]
     },
     "execution_count": 10,
     "metadata": {},
     "output_type": "execute_result"
    }
   ],
   "source": [
    "autumn.tail()"
   ]
  },
  {
   "cell_type": "code",
   "execution_count": 11,
   "metadata": {},
   "outputs": [],
   "source": [
    "autumn.loc[autumn['부제목'].notnull(), '부제목'] = 1\n",
    "autumn.loc[autumn['부제목'].isnull(), '부제목'] = 0"
   ]
  },
  {
   "cell_type": "code",
   "execution_count": 12,
   "metadata": {},
   "outputs": [
    {
     "data": {
      "text/html": [
       "<div>\n",
       "<style scoped>\n",
       "    .dataframe tbody tr th:only-of-type {\n",
       "        vertical-align: middle;\n",
       "    }\n",
       "\n",
       "    .dataframe tbody tr th {\n",
       "        vertical-align: top;\n",
       "    }\n",
       "\n",
       "    .dataframe thead th {\n",
       "        text-align: right;\n",
       "    }\n",
       "</style>\n",
       "<table border=\"1\" class=\"dataframe\">\n",
       "  <thead>\n",
       "    <tr style=\"text-align: right;\">\n",
       "      <th></th>\n",
       "      <th>도서명</th>\n",
       "      <th>부제목</th>\n",
       "      <th>출간일</th>\n",
       "      <th>분야</th>\n",
       "      <th>정가</th>\n",
       "      <th>평점</th>\n",
       "      <th>쪽수</th>\n",
       "      <th>eBook 여부</th>\n",
       "      <th>제목 길이</th>\n",
       "      <th>순위</th>\n",
       "      <th>베스트셀러 여부</th>\n",
       "    </tr>\n",
       "  </thead>\n",
       "  <tbody>\n",
       "    <tr>\n",
       "      <th>0</th>\n",
       "      <td>언어의 온도(3주년 150만부 기념 에디션)</td>\n",
       "      <td>1</td>\n",
       "      <td>20160819.0</td>\n",
       "      <td>2</td>\n",
       "      <td>13800.0</td>\n",
       "      <td>8.8</td>\n",
       "      <td>308</td>\n",
       "      <td>1</td>\n",
       "      <td>6</td>\n",
       "      <td>1</td>\n",
       "      <td>1</td>\n",
       "    </tr>\n",
       "    <tr>\n",
       "      <th>1</th>\n",
       "      <td>살인자의 기억법</td>\n",
       "      <td>1</td>\n",
       "      <td>20130725.0</td>\n",
       "      <td>1</td>\n",
       "      <td>10000.0</td>\n",
       "      <td>9.1</td>\n",
       "      <td>176</td>\n",
       "      <td>1</td>\n",
       "      <td>8</td>\n",
       "      <td>2</td>\n",
       "      <td>1</td>\n",
       "    </tr>\n",
       "    <tr>\n",
       "      <th>2</th>\n",
       "      <td>82년생 김지영(오늘의 젊은 작가 13)(양장본 HardCover)</td>\n",
       "      <td>1</td>\n",
       "      <td>20161014.0</td>\n",
       "      <td>1</td>\n",
       "      <td>13000.0</td>\n",
       "      <td>8.9</td>\n",
       "      <td>192</td>\n",
       "      <td>1</td>\n",
       "      <td>8</td>\n",
       "      <td>3</td>\n",
       "      <td>1</td>\n",
       "    </tr>\n",
       "    <tr>\n",
       "      <th>3</th>\n",
       "      <td>말의 품격</td>\n",
       "      <td>1</td>\n",
       "      <td>20190318.0</td>\n",
       "      <td>3</td>\n",
       "      <td>14500.0</td>\n",
       "      <td>8.7</td>\n",
       "      <td>232</td>\n",
       "      <td>1</td>\n",
       "      <td>5</td>\n",
       "      <td>4</td>\n",
       "      <td>1</td>\n",
       "    </tr>\n",
       "    <tr>\n",
       "      <th>4</th>\n",
       "      <td>나는 나로 살기로 했다</td>\n",
       "      <td>0</td>\n",
       "      <td>20200316.0</td>\n",
       "      <td>2</td>\n",
       "      <td>13800.0</td>\n",
       "      <td>9.0</td>\n",
       "      <td>288</td>\n",
       "      <td>1</td>\n",
       "      <td>12</td>\n",
       "      <td>5</td>\n",
       "      <td>1</td>\n",
       "    </tr>\n",
       "  </tbody>\n",
       "</table>\n",
       "</div>"
      ],
      "text/plain": [
       "                                     도서명 부제목         출간일 분야       정가   평점  \\\n",
       "0               언어의 온도(3주년 150만부 기념 에디션)   1  20160819.0  2  13800.0  8.8   \n",
       "1                               살인자의 기억법   1  20130725.0  1  10000.0  9.1   \n",
       "2  82년생 김지영(오늘의 젊은 작가 13)(양장본 HardCover)   1  20161014.0  1  13000.0  8.9   \n",
       "3                                  말의 품격   1  20190318.0  3  14500.0  8.7   \n",
       "4                           나는 나로 살기로 했다   0  20200316.0  2  13800.0  9.0   \n",
       "\n",
       "    쪽수  eBook 여부  제목 길이  순위  베스트셀러 여부  \n",
       "0  308         1      6   1         1  \n",
       "1  176         1      8   2         1  \n",
       "2  192         1      8   3         1  \n",
       "3  232         1      5   4         1  \n",
       "4  288         1     12   5         1  "
      ]
     },
     "execution_count": 12,
     "metadata": {},
     "output_type": "execute_result"
    }
   ],
   "source": [
    "autumn.head()"
   ]
  },
  {
   "cell_type": "code",
   "execution_count": 13,
   "metadata": {
    "scrolled": true
   },
   "outputs": [
    {
     "data": {
      "text/html": [
       "<div>\n",
       "<style scoped>\n",
       "    .dataframe tbody tr th:only-of-type {\n",
       "        vertical-align: middle;\n",
       "    }\n",
       "\n",
       "    .dataframe tbody tr th {\n",
       "        vertical-align: top;\n",
       "    }\n",
       "\n",
       "    .dataframe thead th {\n",
       "        text-align: right;\n",
       "    }\n",
       "</style>\n",
       "<table border=\"1\" class=\"dataframe\">\n",
       "  <thead>\n",
       "    <tr style=\"text-align: right;\">\n",
       "      <th></th>\n",
       "      <th>도서명</th>\n",
       "      <th>부제목</th>\n",
       "      <th>출간일</th>\n",
       "      <th>분야</th>\n",
       "      <th>정가</th>\n",
       "      <th>평점</th>\n",
       "      <th>쪽수</th>\n",
       "      <th>eBook 여부</th>\n",
       "      <th>제목 길이</th>\n",
       "      <th>순위</th>\n",
       "      <th>베스트셀러 여부</th>\n",
       "    </tr>\n",
       "  </thead>\n",
       "  <tbody>\n",
       "    <tr>\n",
       "      <th>3551</th>\n",
       "      <td>부자의 원리(부동산 부자들만 은밀히 공유하는)</td>\n",
       "      <td>1</td>\n",
       "      <td>20191028.0</td>\n",
       "      <td>8</td>\n",
       "      <td>15000.0</td>\n",
       "      <td>10.0</td>\n",
       "      <td>320</td>\n",
       "      <td>1</td>\n",
       "      <td>6</td>\n",
       "      <td>0</td>\n",
       "      <td>0</td>\n",
       "    </tr>\n",
       "    <tr>\n",
       "      <th>3552</th>\n",
       "      <td>애견 미용 강아지 헤어 스타일북 세트(Pet’s Better Life)(전2권)</td>\n",
       "      <td>1</td>\n",
       "      <td>20191105.0</td>\n",
       "      <td>7</td>\n",
       "      <td>24000.0</td>\n",
       "      <td>0.0</td>\n",
       "      <td>192</td>\n",
       "      <td>0</td>\n",
       "      <td>20</td>\n",
       "      <td>0</td>\n",
       "      <td>0</td>\n",
       "    </tr>\n",
       "    <tr>\n",
       "      <th>3553</th>\n",
       "      <td>돈 까밀로의 작은 세상(리커버 특별판)(신부님 우리들의 신부님 7)</td>\n",
       "      <td>0</td>\n",
       "      <td>20191115.0</td>\n",
       "      <td>1</td>\n",
       "      <td>12900.0</td>\n",
       "      <td>0.0</td>\n",
       "      <td>320</td>\n",
       "      <td>0</td>\n",
       "      <td>12</td>\n",
       "      <td>0</td>\n",
       "      <td>0</td>\n",
       "    </tr>\n",
       "    <tr>\n",
       "      <th>3554</th>\n",
       "      <td>행정법총론  SOS(2020)(써니)(3판)(전2권)</td>\n",
       "      <td>1</td>\n",
       "      <td>20191120.0</td>\n",
       "      <td>16</td>\n",
       "      <td>23000.0</td>\n",
       "      <td>9.9</td>\n",
       "      <td>520</td>\n",
       "      <td>0</td>\n",
       "      <td>10</td>\n",
       "      <td>0</td>\n",
       "      <td>0</td>\n",
       "    </tr>\n",
       "    <tr>\n",
       "      <th>3555</th>\n",
       "      <td>파워레인저 다이노소울 두들색칠북(색칠북)</td>\n",
       "      <td>1</td>\n",
       "      <td>20191020.0</td>\n",
       "      <td>20</td>\n",
       "      <td>9000.0</td>\n",
       "      <td>0.0</td>\n",
       "      <td>1</td>\n",
       "      <td>0</td>\n",
       "      <td>17</td>\n",
       "      <td>0</td>\n",
       "      <td>0</td>\n",
       "    </tr>\n",
       "  </tbody>\n",
       "</table>\n",
       "</div>"
      ],
      "text/plain": [
       "                                               도서명 부제목         출간일  분야  \\\n",
       "3551                     부자의 원리(부동산 부자들만 은밀히 공유하는)   1  20191028.0   8   \n",
       "3552  애견 미용 강아지 헤어 스타일북 세트(Pet’s Better Life)(전2권)   1  20191105.0   7   \n",
       "3553         돈 까밀로의 작은 세상(리커버 특별판)(신부님 우리들의 신부님 7)   0  20191115.0   1   \n",
       "3554                 행정법총론  SOS(2020)(써니)(3판)(전2권)   1  20191120.0  16   \n",
       "3555                        파워레인저 다이노소울 두들색칠북(색칠북)   1  20191020.0  20   \n",
       "\n",
       "           정가    평점   쪽수  eBook 여부  제목 길이  순위  베스트셀러 여부  \n",
       "3551  15000.0  10.0  320         1      6   0         0  \n",
       "3552  24000.0   0.0  192         0     20   0         0  \n",
       "3553  12900.0   0.0  320         0     12   0         0  \n",
       "3554  23000.0   9.9  520         0     10   0         0  \n",
       "3555   9000.0   0.0    1         0     17   0         0  "
      ]
     },
     "execution_count": 13,
     "metadata": {},
     "output_type": "execute_result"
    }
   ],
   "source": [
    "autumn.tail()"
   ]
  },
  {
   "cell_type": "code",
   "execution_count": 14,
   "metadata": {},
   "outputs": [],
   "source": [
    "autumn = autumn[['부제목', '분야', '정가', '평점', '쪽수', 'eBook 여부', '제목 길이', '순위', '베스트셀러 여부']]"
   ]
  },
  {
   "cell_type": "code",
   "execution_count": 15,
   "metadata": {},
   "outputs": [
    {
     "data": {
      "text/html": [
       "<div>\n",
       "<style scoped>\n",
       "    .dataframe tbody tr th:only-of-type {\n",
       "        vertical-align: middle;\n",
       "    }\n",
       "\n",
       "    .dataframe tbody tr th {\n",
       "        vertical-align: top;\n",
       "    }\n",
       "\n",
       "    .dataframe thead th {\n",
       "        text-align: right;\n",
       "    }\n",
       "</style>\n",
       "<table border=\"1\" class=\"dataframe\">\n",
       "  <thead>\n",
       "    <tr style=\"text-align: right;\">\n",
       "      <th></th>\n",
       "      <th>부제목</th>\n",
       "      <th>분야</th>\n",
       "      <th>정가</th>\n",
       "      <th>평점</th>\n",
       "      <th>쪽수</th>\n",
       "      <th>eBook 여부</th>\n",
       "      <th>제목 길이</th>\n",
       "      <th>순위</th>\n",
       "      <th>베스트셀러 여부</th>\n",
       "    </tr>\n",
       "  </thead>\n",
       "  <tbody>\n",
       "    <tr>\n",
       "      <th>0</th>\n",
       "      <td>1</td>\n",
       "      <td>2</td>\n",
       "      <td>13800.0</td>\n",
       "      <td>8.8</td>\n",
       "      <td>308</td>\n",
       "      <td>1</td>\n",
       "      <td>6</td>\n",
       "      <td>1</td>\n",
       "      <td>1</td>\n",
       "    </tr>\n",
       "    <tr>\n",
       "      <th>1</th>\n",
       "      <td>1</td>\n",
       "      <td>1</td>\n",
       "      <td>10000.0</td>\n",
       "      <td>9.1</td>\n",
       "      <td>176</td>\n",
       "      <td>1</td>\n",
       "      <td>8</td>\n",
       "      <td>2</td>\n",
       "      <td>1</td>\n",
       "    </tr>\n",
       "    <tr>\n",
       "      <th>2</th>\n",
       "      <td>1</td>\n",
       "      <td>1</td>\n",
       "      <td>13000.0</td>\n",
       "      <td>8.9</td>\n",
       "      <td>192</td>\n",
       "      <td>1</td>\n",
       "      <td>8</td>\n",
       "      <td>3</td>\n",
       "      <td>1</td>\n",
       "    </tr>\n",
       "    <tr>\n",
       "      <th>3</th>\n",
       "      <td>1</td>\n",
       "      <td>3</td>\n",
       "      <td>14500.0</td>\n",
       "      <td>8.7</td>\n",
       "      <td>232</td>\n",
       "      <td>1</td>\n",
       "      <td>5</td>\n",
       "      <td>4</td>\n",
       "      <td>1</td>\n",
       "    </tr>\n",
       "    <tr>\n",
       "      <th>4</th>\n",
       "      <td>0</td>\n",
       "      <td>2</td>\n",
       "      <td>13800.0</td>\n",
       "      <td>9.0</td>\n",
       "      <td>288</td>\n",
       "      <td>1</td>\n",
       "      <td>12</td>\n",
       "      <td>5</td>\n",
       "      <td>1</td>\n",
       "    </tr>\n",
       "  </tbody>\n",
       "</table>\n",
       "</div>"
      ],
      "text/plain": [
       "  부제목 분야       정가   평점   쪽수  eBook 여부  제목 길이  순위  베스트셀러 여부\n",
       "0   1  2  13800.0  8.8  308         1      6   1         1\n",
       "1   1  1  10000.0  9.1  176         1      8   2         1\n",
       "2   1  1  13000.0  8.9  192         1      8   3         1\n",
       "3   1  3  14500.0  8.7  232         1      5   4         1\n",
       "4   0  2  13800.0  9.0  288         1     12   5         1"
      ]
     },
     "execution_count": 15,
     "metadata": {},
     "output_type": "execute_result"
    }
   ],
   "source": [
    "autumn.head()"
   ]
  },
  {
   "cell_type": "code",
   "execution_count": 16,
   "metadata": {},
   "outputs": [
    {
     "data": {
      "text/plain": [
       "부제목         0\n",
       "분야          0\n",
       "정가          9\n",
       "평점          1\n",
       "쪽수          0\n",
       "eBook 여부    0\n",
       "제목 길이       0\n",
       "순위          0\n",
       "베스트셀러 여부    0\n",
       "dtype: int64"
      ]
     },
     "execution_count": 16,
     "metadata": {},
     "output_type": "execute_result"
    }
   ],
   "source": [
    "autumn.isnull().sum()"
   ]
  },
  {
   "cell_type": "code",
   "execution_count": 17,
   "metadata": {},
   "outputs": [],
   "source": [
    "autumn['정가'] = autumn['정가'].fillna(autumn['정가'].mean())\n",
    "autumn.loc[autumn['분야'].isnull(), '분야'] = 0\n",
    "# autumn['정가'].fillna(autumn['정가'].mean())\n",
    "# autumn['분야'] = autumn['분야'].fillna(autumn['분야'].mean())\n",
    "# # autumn.loc[autumn['분야'] == 'Nan', '분야'] = 0"
   ]
  },
  {
   "cell_type": "code",
   "execution_count": 18,
   "metadata": {},
   "outputs": [],
   "source": [
    "autumn.loc[autumn['쪽수'] == \"178 * 238 * 18 mm /357g  판형알림\", '쪽수'] = 371\n",
    "autumn.loc[autumn['평점'].isnull(), '평점'] = 0"
   ]
  },
  {
   "cell_type": "code",
   "execution_count": 19,
   "metadata": {},
   "outputs": [
    {
     "data": {
      "text/plain": [
       "부제목             0.669854\n",
       "분야              8.273060\n",
       "정가          16388.779250\n",
       "평점              8.581862\n",
       "eBook 여부        0.600675\n",
       "제목 길이          11.927728\n",
       "순위             50.703037\n",
       "베스트셀러 여부        0.505343\n",
       "dtype: float64"
      ]
     },
     "execution_count": 19,
     "metadata": {},
     "output_type": "execute_result"
    }
   ],
   "source": [
    "autumn.mean()"
   ]
  },
  {
   "cell_type": "code",
   "execution_count": 20,
   "metadata": {
    "scrolled": true
   },
   "outputs": [
    {
     "data": {
      "text/plain": [
       "부제목         0\n",
       "분야          0\n",
       "정가          0\n",
       "평점          0\n",
       "쪽수          0\n",
       "eBook 여부    0\n",
       "제목 길이       0\n",
       "순위          0\n",
       "베스트셀러 여부    0\n",
       "dtype: int64"
      ]
     },
     "execution_count": 20,
     "metadata": {},
     "output_type": "execute_result"
    }
   ],
   "source": [
    "autumn.isnull().sum()"
   ]
  },
  {
   "cell_type": "markdown",
   "metadata": {},
   "source": [
    "## 로지스틱 회귀분석"
   ]
  },
  {
   "cell_type": "code",
   "execution_count": 21,
   "metadata": {},
   "outputs": [],
   "source": [
    "import numpy as np\n",
    "from sklearn import datasets\n",
    "from sklearn.model_selection import train_test_split"
   ]
  },
  {
   "cell_type": "code",
   "execution_count": 22,
   "metadata": {},
   "outputs": [],
   "source": [
    "x_data = autumn[['부제목', '쪽수', 'eBook 여부', '제목 길이', '평점', '정가']] \n",
    "#분야, 평점, 가격은 str인데 . 때문에 int나 float으로 형변환 안 되는 듯함 해결해야 됨\n",
    "y_data = autumn['베스트셀러 여부']\n",
    "x_train, x_test, y_train, y_test = train_test_split(x_data, y_data, test_size=0.2, random_state=0)"
   ]
  },
  {
   "cell_type": "code",
   "execution_count": 23,
   "metadata": {},
   "outputs": [],
   "source": [
    "from sklearn.preprocessing import StandardScaler\n",
    "scaler = StandardScaler()\n",
    "xs_train = scaler.fit_transform(x_train)"
   ]
  },
  {
   "cell_type": "code",
   "execution_count": 24,
   "metadata": {},
   "outputs": [
    {
     "data": {
      "text/html": [
       "<div>\n",
       "<style scoped>\n",
       "    .dataframe tbody tr th:only-of-type {\n",
       "        vertical-align: middle;\n",
       "    }\n",
       "\n",
       "    .dataframe tbody tr th {\n",
       "        vertical-align: top;\n",
       "    }\n",
       "\n",
       "    .dataframe thead th {\n",
       "        text-align: right;\n",
       "    }\n",
       "</style>\n",
       "<table border=\"1\" class=\"dataframe\">\n",
       "  <thead>\n",
       "    <tr style=\"text-align: right;\">\n",
       "      <th></th>\n",
       "      <th>부제목</th>\n",
       "      <th>쪽수</th>\n",
       "      <th>eBook 여부</th>\n",
       "      <th>제목 길이</th>\n",
       "      <th>평점</th>\n",
       "      <th>정가</th>\n",
       "    </tr>\n",
       "  </thead>\n",
       "  <tbody>\n",
       "    <tr>\n",
       "      <th>0</th>\n",
       "      <td>1</td>\n",
       "      <td>308</td>\n",
       "      <td>1</td>\n",
       "      <td>6</td>\n",
       "      <td>8.8</td>\n",
       "      <td>13800.0</td>\n",
       "    </tr>\n",
       "    <tr>\n",
       "      <th>1</th>\n",
       "      <td>1</td>\n",
       "      <td>176</td>\n",
       "      <td>1</td>\n",
       "      <td>8</td>\n",
       "      <td>9.1</td>\n",
       "      <td>10000.0</td>\n",
       "    </tr>\n",
       "    <tr>\n",
       "      <th>2</th>\n",
       "      <td>1</td>\n",
       "      <td>192</td>\n",
       "      <td>1</td>\n",
       "      <td>8</td>\n",
       "      <td>8.9</td>\n",
       "      <td>13000.0</td>\n",
       "    </tr>\n",
       "    <tr>\n",
       "      <th>3</th>\n",
       "      <td>1</td>\n",
       "      <td>232</td>\n",
       "      <td>1</td>\n",
       "      <td>5</td>\n",
       "      <td>8.7</td>\n",
       "      <td>14500.0</td>\n",
       "    </tr>\n",
       "    <tr>\n",
       "      <th>4</th>\n",
       "      <td>0</td>\n",
       "      <td>288</td>\n",
       "      <td>1</td>\n",
       "      <td>12</td>\n",
       "      <td>9.0</td>\n",
       "      <td>13800.0</td>\n",
       "    </tr>\n",
       "  </tbody>\n",
       "</table>\n",
       "</div>"
      ],
      "text/plain": [
       "  부제목   쪽수  eBook 여부  제목 길이   평점       정가\n",
       "0   1  308         1      6  8.8  13800.0\n",
       "1   1  176         1      8  9.1  10000.0\n",
       "2   1  192         1      8  8.9  13000.0\n",
       "3   1  232         1      5  8.7  14500.0\n",
       "4   0  288         1     12  9.0  13800.0"
      ]
     },
     "execution_count": 24,
     "metadata": {},
     "output_type": "execute_result"
    }
   ],
   "source": [
    "x_data.head()"
   ]
  },
  {
   "cell_type": "code",
   "execution_count": 25,
   "metadata": {},
   "outputs": [
    {
     "name": "stdout",
     "output_type": "stream",
     "text": [
      "학습용 데이터셋 정확도 : 0.67\n",
      "검증용 데이터셋 정확도 : 0.48\n"
     ]
    }
   ],
   "source": [
    "from sklearn.linear_model import LogisticRegression\n",
    "\n",
    "log = LogisticRegression() #로지스틱 회귀분석 시행\n",
    "\n",
    "log.fit(xs_train, y_train) #모델 피팅(학습시키기)\n",
    "print('학습용 데이터셋 정확도 : %.2f' % log.score(xs_train, y_train)) #정확도\n",
    "print('검증용 데이터셋 정확도 : %.2f' % log.score(x_test, y_test))"
   ]
  },
  {
   "cell_type": "code",
   "execution_count": 26,
   "metadata": {},
   "outputs": [],
   "source": [
    "import statsmodels.api as sm"
   ]
  },
  {
   "cell_type": "code",
   "execution_count": 27,
   "metadata": {},
   "outputs": [
    {
     "name": "stdout",
     "output_type": "stream",
     "text": [
      "Optimization terminated successfully.\n",
      "         Current function value: 0.599939\n",
      "         Iterations 6\n"
     ]
    }
   ],
   "source": [
    "pd.DataFrame(range(100)).dtypes\n",
    "logit = sm.Logit(y_data.astype(float), x_data.astype(float)) \n",
    "result = logit.fit()\n",
    "# est = sm.OLS (y.astype (float), X.astype (array)). fit ()"
   ]
  },
  {
   "cell_type": "code",
   "execution_count": 28,
   "metadata": {
    "scrolled": true
   },
   "outputs": [
    {
     "data": {
      "text/html": [
       "<table class=\"simpletable\">\n",
       "<tr>\n",
       "        <td>Model:</td>              <td>Logit</td>      <td>Pseudo R-squared:</td>    <td>0.134</td>   \n",
       "</tr>\n",
       "<tr>\n",
       "  <td>Dependent Variable:</td>     <td>베스트셀러 여부</td>           <td>AIC:</td>         <td>4278.7688</td> \n",
       "</tr>\n",
       "<tr>\n",
       "         <td>Date:</td>        <td>2020-07-22 22:34</td>       <td>BIC:</td>         <td>4315.8271</td> \n",
       "</tr>\n",
       "<tr>\n",
       "   <td>No. Observations:</td>        <td>3556</td>        <td>Log-Likelihood:</td>    <td>-2133.4</td>  \n",
       "</tr>\n",
       "<tr>\n",
       "       <td>Df Model:</td>              <td>5</td>            <td>LL-Null:</td>        <td>-2464.6</td>  \n",
       "</tr>\n",
       "<tr>\n",
       "     <td>Df Residuals:</td>          <td>3550</td>         <td>LLR p-value:</td>    <td>6.3261e-141</td>\n",
       "</tr>\n",
       "<tr>\n",
       "      <td>Converged:</td>           <td>1.0000</td>           <td>Scale:</td>         <td>1.0000</td>   \n",
       "</tr>\n",
       "<tr>\n",
       "    <td>No. Iterations:</td>        <td>6.0000</td>              <td></td>               <td></td>      \n",
       "</tr>\n",
       "</table>\n",
       "<table class=\"simpletable\">\n",
       "<tr>\n",
       "      <td></td>      <th>Coef.</th>  <th>Std.Err.</th>     <th>z</th>     <th>P>|z|</th> <th>[0.025</th>  <th>0.975]</th> \n",
       "</tr>\n",
       "<tr>\n",
       "  <th>부제목</th>      <td>0.3253</td>   <td>0.0810</td>   <td>4.0162</td>  <td>0.0001</td> <td>0.1666</td>  <td>0.4841</td> \n",
       "</tr>\n",
       "<tr>\n",
       "  <th>쪽수</th>       <td>0.0043</td>   <td>0.0004</td>   <td>12.1519</td> <td>0.0000</td> <td>0.0036</td>  <td>0.0050</td> \n",
       "</tr>\n",
       "<tr>\n",
       "  <th>eBook 여부</th> <td>0.4742</td>   <td>0.0749</td>   <td>6.3275</td>  <td>0.0000</td> <td>0.3273</td>  <td>0.6211</td> \n",
       "</tr>\n",
       "<tr>\n",
       "  <th>제목 길이</th>    <td>-0.0201</td>  <td>0.0057</td>   <td>-3.5420</td> <td>0.0004</td> <td>-0.0312</td> <td>-0.0090</td>\n",
       "</tr>\n",
       "<tr>\n",
       "  <th>평점</th>       <td>0.1703</td>   <td>0.0133</td>   <td>12.8014</td> <td>0.0000</td> <td>0.1442</td>  <td>0.1963</td> \n",
       "</tr>\n",
       "<tr>\n",
       "  <th>정가</th>       <td>-0.0002</td>  <td>0.0000</td>  <td>-17.8014</td> <td>0.0000</td> <td>-0.0002</td> <td>-0.0002</td>\n",
       "</tr>\n",
       "</table>"
      ],
      "text/plain": [
       "<class 'statsmodels.iolib.summary2.Summary'>\n",
       "\"\"\"\n",
       "                          Results: Logit\n",
       "==================================================================\n",
       "Model:              Logit            Pseudo R-squared: 0.134      \n",
       "Dependent Variable: 베스트셀러 여부         AIC:              4278.7688  \n",
       "Date:               2020-07-22 22:34 BIC:              4315.8271  \n",
       "No. Observations:   3556             Log-Likelihood:   -2133.4    \n",
       "Df Model:           5                LL-Null:          -2464.6    \n",
       "Df Residuals:       3550             LLR p-value:      6.3261e-141\n",
       "Converged:          1.0000           Scale:            1.0000     \n",
       "No. Iterations:     6.0000                                        \n",
       "-------------------------------------------------------------------\n",
       "               Coef.   Std.Err.     z      P>|z|    [0.025   0.975]\n",
       "-------------------------------------------------------------------\n",
       "부제목            0.3253    0.0810    4.0162  0.0001   0.1666   0.4841\n",
       "쪽수             0.0043    0.0004   12.1519  0.0000   0.0036   0.0050\n",
       "eBook 여부       0.4742    0.0749    6.3275  0.0000   0.3273   0.6211\n",
       "제목 길이         -0.0201    0.0057   -3.5420  0.0004  -0.0312  -0.0090\n",
       "평점             0.1703    0.0133   12.8014  0.0000   0.1442   0.1963\n",
       "정가            -0.0002    0.0000  -17.8014  0.0000  -0.0002  -0.0002\n",
       "==================================================================\n",
       "\n",
       "\"\"\""
      ]
     },
     "execution_count": 28,
     "metadata": {},
     "output_type": "execute_result"
    }
   ],
   "source": [
    "result.summary2()"
   ]
  },
  {
   "cell_type": "code",
   "execution_count": 29,
   "metadata": {},
   "outputs": [],
   "source": [
    "#유의수준 a=0.05에서, ebook여부, 제목길이는 유의미한 상관관계가 있음"
   ]
  },
  {
   "cell_type": "markdown",
   "metadata": {},
   "source": [
    "## 오즈비\n",
    "#### 1에 가까울 수록 종속변수와 관련 없는것 (다른 설명변수는 고정)"
   ]
  },
  {
   "cell_type": "code",
   "execution_count": 30,
   "metadata": {
    "scrolled": true
   },
   "outputs": [
    {
     "data": {
      "text/plain": [
       "부제목         1.384493\n",
       "쪽수          1.004304\n",
       "eBook 여부    1.606791\n",
       "제목 길이       0.980119\n",
       "평점          1.185626\n",
       "정가          0.999804\n",
       "dtype: float64"
      ]
     },
     "execution_count": 30,
     "metadata": {},
     "output_type": "execute_result"
    }
   ],
   "source": [
    "np.exp(result.params)"
   ]
  },
  {
   "cell_type": "code",
   "execution_count": 31,
   "metadata": {},
   "outputs": [],
   "source": [
    "#영향 큰 순서 : ebook여부(있을 수록) > 제목 길이 > 부제목 > 쪽수 "
   ]
  },
  {
   "cell_type": "code",
   "execution_count": 32,
   "metadata": {},
   "outputs": [
    {
     "data": {
      "text/html": [
       "<div>\n",
       "<style scoped>\n",
       "    .dataframe tbody tr th:only-of-type {\n",
       "        vertical-align: middle;\n",
       "    }\n",
       "\n",
       "    .dataframe tbody tr th {\n",
       "        vertical-align: top;\n",
       "    }\n",
       "\n",
       "    .dataframe thead th {\n",
       "        text-align: right;\n",
       "    }\n",
       "</style>\n",
       "<table border=\"1\" class=\"dataframe\">\n",
       "  <thead>\n",
       "    <tr style=\"text-align: right;\">\n",
       "      <th></th>\n",
       "      <th>eBook 여부</th>\n",
       "      <th>제목 길이</th>\n",
       "      <th>평점</th>\n",
       "      <th>정가</th>\n",
       "    </tr>\n",
       "  </thead>\n",
       "  <tbody>\n",
       "    <tr>\n",
       "      <th>eBook 여부</th>\n",
       "      <td>1.000000</td>\n",
       "      <td>-0.163091</td>\n",
       "      <td>0.105568</td>\n",
       "      <td>-0.076678</td>\n",
       "    </tr>\n",
       "    <tr>\n",
       "      <th>제목 길이</th>\n",
       "      <td>-0.163091</td>\n",
       "      <td>1.000000</td>\n",
       "      <td>-0.020706</td>\n",
       "      <td>0.034662</td>\n",
       "    </tr>\n",
       "    <tr>\n",
       "      <th>평점</th>\n",
       "      <td>0.105568</td>\n",
       "      <td>-0.020706</td>\n",
       "      <td>1.000000</td>\n",
       "      <td>-0.047835</td>\n",
       "    </tr>\n",
       "    <tr>\n",
       "      <th>정가</th>\n",
       "      <td>-0.076678</td>\n",
       "      <td>0.034662</td>\n",
       "      <td>-0.047835</td>\n",
       "      <td>1.000000</td>\n",
       "    </tr>\n",
       "  </tbody>\n",
       "</table>\n",
       "</div>"
      ],
      "text/plain": [
       "          eBook 여부     제목 길이        평점        정가\n",
       "eBook 여부  1.000000 -0.163091  0.105568 -0.076678\n",
       "제목 길이    -0.163091  1.000000 -0.020706  0.034662\n",
       "평점        0.105568 -0.020706  1.000000 -0.047835\n",
       "정가       -0.076678  0.034662 -0.047835  1.000000"
      ]
     },
     "execution_count": 32,
     "metadata": {},
     "output_type": "execute_result"
    }
   ],
   "source": [
    "x_data.corr()"
   ]
  },
  {
   "cell_type": "code",
   "execution_count": 33,
   "metadata": {},
   "outputs": [
    {
     "data": {
      "text/html": [
       "<div>\n",
       "<style scoped>\n",
       "    .dataframe tbody tr th:only-of-type {\n",
       "        vertical-align: middle;\n",
       "    }\n",
       "\n",
       "    .dataframe tbody tr th {\n",
       "        vertical-align: top;\n",
       "    }\n",
       "\n",
       "    .dataframe thead th {\n",
       "        text-align: right;\n",
       "    }\n",
       "</style>\n",
       "<table border=\"1\" class=\"dataframe\">\n",
       "  <thead>\n",
       "    <tr style=\"text-align: right;\">\n",
       "      <th></th>\n",
       "      <th>부제목</th>\n",
       "      <th>분야</th>\n",
       "      <th>정가</th>\n",
       "      <th>평점</th>\n",
       "      <th>쪽수</th>\n",
       "      <th>eBook 여부</th>\n",
       "      <th>제목 길이</th>\n",
       "      <th>순위</th>\n",
       "      <th>베스트셀러 여부</th>\n",
       "    </tr>\n",
       "  </thead>\n",
       "  <tbody>\n",
       "    <tr>\n",
       "      <th>0</th>\n",
       "      <td>1</td>\n",
       "      <td>2</td>\n",
       "      <td>13800.0</td>\n",
       "      <td>8.8</td>\n",
       "      <td>308</td>\n",
       "      <td>1</td>\n",
       "      <td>6</td>\n",
       "      <td>1</td>\n",
       "      <td>1</td>\n",
       "    </tr>\n",
       "    <tr>\n",
       "      <th>1</th>\n",
       "      <td>1</td>\n",
       "      <td>1</td>\n",
       "      <td>10000.0</td>\n",
       "      <td>9.1</td>\n",
       "      <td>176</td>\n",
       "      <td>1</td>\n",
       "      <td>8</td>\n",
       "      <td>2</td>\n",
       "      <td>1</td>\n",
       "    </tr>\n",
       "    <tr>\n",
       "      <th>2</th>\n",
       "      <td>1</td>\n",
       "      <td>1</td>\n",
       "      <td>13000.0</td>\n",
       "      <td>8.9</td>\n",
       "      <td>192</td>\n",
       "      <td>1</td>\n",
       "      <td>8</td>\n",
       "      <td>3</td>\n",
       "      <td>1</td>\n",
       "    </tr>\n",
       "    <tr>\n",
       "      <th>3</th>\n",
       "      <td>1</td>\n",
       "      <td>3</td>\n",
       "      <td>14500.0</td>\n",
       "      <td>8.7</td>\n",
       "      <td>232</td>\n",
       "      <td>1</td>\n",
       "      <td>5</td>\n",
       "      <td>4</td>\n",
       "      <td>1</td>\n",
       "    </tr>\n",
       "    <tr>\n",
       "      <th>4</th>\n",
       "      <td>0</td>\n",
       "      <td>2</td>\n",
       "      <td>13800.0</td>\n",
       "      <td>9.0</td>\n",
       "      <td>288</td>\n",
       "      <td>1</td>\n",
       "      <td>12</td>\n",
       "      <td>5</td>\n",
       "      <td>1</td>\n",
       "    </tr>\n",
       "  </tbody>\n",
       "</table>\n",
       "</div>"
      ],
      "text/plain": [
       "  부제목 분야       정가   평점   쪽수  eBook 여부  제목 길이  순위  베스트셀러 여부\n",
       "0   1  2  13800.0  8.8  308         1      6   1         1\n",
       "1   1  1  10000.0  9.1  176         1      8   2         1\n",
       "2   1  1  13000.0  8.9  192         1      8   3         1\n",
       "3   1  3  14500.0  8.7  232         1      5   4         1\n",
       "4   0  2  13800.0  9.0  288         1     12   5         1"
      ]
     },
     "execution_count": 33,
     "metadata": {},
     "output_type": "execute_result"
    }
   ],
   "source": [
    "autumn.head()"
   ]
  },
  {
   "cell_type": "code",
   "execution_count": 34,
   "metadata": {},
   "outputs": [
    {
     "data": {
      "text/html": [
       "<div>\n",
       "<style scoped>\n",
       "    .dataframe tbody tr th:only-of-type {\n",
       "        vertical-align: middle;\n",
       "    }\n",
       "\n",
       "    .dataframe tbody tr th {\n",
       "        vertical-align: top;\n",
       "    }\n",
       "\n",
       "    .dataframe thead th {\n",
       "        text-align: right;\n",
       "    }\n",
       "</style>\n",
       "<table border=\"1\" class=\"dataframe\">\n",
       "  <thead>\n",
       "    <tr style=\"text-align: right;\">\n",
       "      <th></th>\n",
       "      <th>정가</th>\n",
       "      <th>평점</th>\n",
       "      <th>eBook 여부</th>\n",
       "      <th>제목 길이</th>\n",
       "    </tr>\n",
       "  </thead>\n",
       "  <tbody>\n",
       "    <tr>\n",
       "      <th>정가</th>\n",
       "      <td>1.000000</td>\n",
       "      <td>-0.047835</td>\n",
       "      <td>-0.076678</td>\n",
       "      <td>0.034662</td>\n",
       "    </tr>\n",
       "    <tr>\n",
       "      <th>평점</th>\n",
       "      <td>-0.047835</td>\n",
       "      <td>1.000000</td>\n",
       "      <td>0.105568</td>\n",
       "      <td>-0.020706</td>\n",
       "    </tr>\n",
       "    <tr>\n",
       "      <th>eBook 여부</th>\n",
       "      <td>-0.076678</td>\n",
       "      <td>0.105568</td>\n",
       "      <td>1.000000</td>\n",
       "      <td>-0.163091</td>\n",
       "    </tr>\n",
       "    <tr>\n",
       "      <th>제목 길이</th>\n",
       "      <td>0.034662</td>\n",
       "      <td>-0.020706</td>\n",
       "      <td>-0.163091</td>\n",
       "      <td>1.000000</td>\n",
       "    </tr>\n",
       "  </tbody>\n",
       "</table>\n",
       "</div>"
      ],
      "text/plain": [
       "                정가        평점  eBook 여부     제목 길이\n",
       "정가        1.000000 -0.047835 -0.076678  0.034662\n",
       "평점       -0.047835  1.000000  0.105568 -0.020706\n",
       "eBook 여부 -0.076678  0.105568  1.000000 -0.163091\n",
       "제목 길이     0.034662 -0.020706 -0.163091  1.000000"
      ]
     },
     "execution_count": 34,
     "metadata": {},
     "output_type": "execute_result"
    }
   ],
   "source": [
    "autumn_x = autumn[['부제목', '분야', '정가', '평점', '쪽수', 'eBook 여부', '제목 길이']]\n",
    "autumn_x.corr()"
   ]
  },
  {
   "cell_type": "code",
   "execution_count": 35,
   "metadata": {},
   "outputs": [],
   "source": [
    "import matplotlib.pyplot as plt\n",
    "%matplotlib inline\n",
    "import seaborn as sns\n",
    "sns.set()\n"
   ]
  },
  {
   "cell_type": "code",
   "execution_count": 36,
   "metadata": {},
   "outputs": [],
   "source": [
    "#그나마 x끼리의 관련이 큰게 쪽수와 정가인데, 아무래도 쪽수가 많을 수록 인쇄비용이 커지니까 그런 듯! *어떻게 할 지 상의하기\n",
    "#0.4가 막 넣으면 안 좋을 만큼 영향있는 수치는 아님"
   ]
  },
  {
   "cell_type": "code",
   "execution_count": 37,
   "metadata": {},
   "outputs": [
    {
     "data": {
      "text/plain": [
       "['0',\n",
       " '1',\n",
       " '3',\n",
       " '4',\n",
       " '5',\n",
       " '6',\n",
       " '7',\n",
       " '8',\n",
       " '9',\n",
       " '10',\n",
       " '11',\n",
       " '12',\n",
       " '13',\n",
       " '14',\n",
       " '15',\n",
       " '16',\n",
       " '17',\n",
       " '19',\n",
       " '20']"
      ]
     },
     "execution_count": 37,
     "metadata": {},
     "output_type": "execute_result"
    }
   ],
   "source": [
    "num = ['0','1','3','4','5','6','7','8','9','10',\n",
    "      '11','12','13','14','15','16','17','19','20']\n",
    "num"
   ]
  },
  {
   "cell_type": "code",
   "execution_count": 38,
   "metadata": {},
   "outputs": [],
   "source": [
    "import matplotlib.pyplot as plt\n",
    "import numpy as np\n",
    "from matplotlib import font_manager, rc\n",
    "from matplotlib import style\n",
    "\n",
    "font_name = font_manager.FontProperties(fname=\"c:/Windows/Fonts/malgun.ttf\").get_name()\n",
    "rc('font', family=font_name)\n",
    "style.use('ggplot')"
   ]
  },
  {
   "cell_type": "code",
   "execution_count": 39,
   "metadata": {
    "scrolled": true
   },
   "outputs": [
    {
     "data": {
      "image/png": "[encoded data removed]",
      "text/plain": [
       "<Figure size 432x288 with 1 Axes>"
      ]
     },
     "metadata": {},
     "output_type": "display_data"
    }
   ],
   "source": [
    "plt.pie(data_l, labels=num, shadow=True, startangle=90)\n",
    "plt.legend(category, loc='upper right', bbox_to_anchor=(3.0, 1.3))\n",
    "plt.show()"
   ]
  },
  {
   "cell_type": "code",
   "execution_count": 40,
   "metadata": {},
   "outputs": [
    {
     "data": {
      "text/plain": [
       "부제목             0.669854\n",
       "eBook 여부        0.600675\n",
       "제목 길이          11.927728\n",
       "평점              8.581862\n",
       "정가          16388.779250\n",
       "dtype: float64"
      ]
     },
     "execution_count": 40,
     "metadata": {},
     "output_type": "execute_result"
    }
   ],
   "source": [
    "x_data.mean()\n"
   ]
  },
  {
   "cell_type": "code",
   "execution_count": null,
   "metadata": {},
   "outputs": [],
   "source": []
  }
 ],
 "metadata": {
  "kernelspec": {
   "display_name": "Python 3",
   "language": "python",
   "name": "python3"
  },
  "language_info": {
   "codemirror_mode": {
    "name": "ipython",
    "version": 3
   },
   "file_extension": ".py",
   "mimetype": "text/x-python",
   "name": "python",
   "nbconvert_exporter": "python",
   "pygments_lexer": "ipython3",
   "version": "3.7.6"
  }
 },
 "nbformat": 4,
 "nbformat_minor": 4
}
