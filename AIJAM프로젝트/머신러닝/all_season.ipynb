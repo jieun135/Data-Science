{
 "cells": [
  {
   "cell_type": "code",
   "execution_count": 1,
   "metadata": {},
   "outputs": [],
   "source": [
    "import pandas as pd"
   ]
  },
  {
   "cell_type": "code",
   "execution_count": 2,
   "metadata": {},
   "outputs": [],
   "source": [
    "#한글파일 읽어오면 utf-8 관련 에러발생\n",
    "#encoding= 'ISO-8859-1' 추가하면 에러는 피할 수 있지만 한글은 여전히 깨짐\n",
    "#engine = 'python' 추가하면 에러도 피하고 한글도 안 깨짐\n",
    "\n",
    "spring = pd.read_csv('data/all.csv', engine = 'python')"
   ]
  },
  {
   "cell_type": "code",
   "execution_count": 3,
   "metadata": {},
   "outputs": [
    {
     "data": {
      "text/html": [
       "<div>\n",
       "<style scoped>\n",
       "    .dataframe tbody tr th:only-of-type {\n",
       "        vertical-align: middle;\n",
       "    }\n",
       "\n",
       "    .dataframe tbody tr th {\n",
       "        vertical-align: top;\n",
       "    }\n",
       "\n",
       "    .dataframe thead th {\n",
       "        text-align: right;\n",
       "    }\n",
       "</style>\n",
       "<table border=\"1\" class=\"dataframe\">\n",
       "  <thead>\n",
       "    <tr style=\"text-align: right;\">\n",
       "      <th></th>\n",
       "      <th>도서명</th>\n",
       "      <th>부제목</th>\n",
       "      <th>출간일</th>\n",
       "      <th>분야</th>\n",
       "      <th>정가</th>\n",
       "      <th>평점</th>\n",
       "      <th>쪽수</th>\n",
       "      <th>eBook 여부</th>\n",
       "      <th>제목 길이</th>\n",
       "      <th>순위</th>\n",
       "      <th>베스트셀러 여부</th>\n",
       "    </tr>\n",
       "  </thead>\n",
       "  <tbody>\n",
       "    <tr>\n",
       "      <th>0</th>\n",
       "      <td>언어의 온도(3주년 150만부 기념 에디션)</td>\n",
       "      <td>말과 글에는 나름의 따뜻함과 차가움이 있다</td>\n",
       "      <td>20160819.0</td>\n",
       "      <td>시/에세이</td>\n",
       "      <td>13800.0</td>\n",
       "      <td>8.8</td>\n",
       "      <td>308</td>\n",
       "      <td>1</td>\n",
       "      <td>6</td>\n",
       "      <td>1</td>\n",
       "      <td>1</td>\n",
       "    </tr>\n",
       "    <tr>\n",
       "      <th>1</th>\n",
       "      <td>잠. 1(양장본 HardCover)</td>\n",
       "      <td>베르나르 베르베르 장편소설</td>\n",
       "      <td>20170608.0</td>\n",
       "      <td>소설</td>\n",
       "      <td>13800.0</td>\n",
       "      <td>9.3</td>\n",
       "      <td>336</td>\n",
       "      <td>1</td>\n",
       "      <td>4</td>\n",
       "      <td>2</td>\n",
       "      <td>1</td>\n",
       "    </tr>\n",
       "    <tr>\n",
       "      <th>2</th>\n",
       "      <td>82년생 김지영(오늘의 젊은 작가 13)(양장본 HardCover)</td>\n",
       "      <td>조남주 장편소설</td>\n",
       "      <td>20161014.0</td>\n",
       "      <td>소설</td>\n",
       "      <td>13000.0</td>\n",
       "      <td>8.9</td>\n",
       "      <td>192</td>\n",
       "      <td>1</td>\n",
       "      <td>8</td>\n",
       "      <td>3</td>\n",
       "      <td>1</td>\n",
       "    </tr>\n",
       "    <tr>\n",
       "      <th>3</th>\n",
       "      <td>말의 품격</td>\n",
       "      <td>말과 사람과 품격에 대한 생각들</td>\n",
       "      <td>20190318.0</td>\n",
       "      <td>인문</td>\n",
       "      <td>14500.0</td>\n",
       "      <td>8.7</td>\n",
       "      <td>232</td>\n",
       "      <td>1</td>\n",
       "      <td>5</td>\n",
       "      <td>4</td>\n",
       "      <td>1</td>\n",
       "    </tr>\n",
       "    <tr>\n",
       "      <th>4</th>\n",
       "      <td>오직 두 사람</td>\n",
       "      <td>김영하 소설</td>\n",
       "      <td>20170525.0</td>\n",
       "      <td>소설</td>\n",
       "      <td>13000.0</td>\n",
       "      <td>9.2</td>\n",
       "      <td>272</td>\n",
       "      <td>1</td>\n",
       "      <td>7</td>\n",
       "      <td>5</td>\n",
       "      <td>1</td>\n",
       "    </tr>\n",
       "  </tbody>\n",
       "</table>\n",
       "</div>"
      ],
      "text/plain": [
       "                                     도서명                      부제목         출간일  \\\n",
       "0               언어의 온도(3주년 150만부 기념 에디션)  말과 글에는 나름의 따뜻함과 차가움이 있다  20160819.0   \n",
       "1                    잠. 1(양장본 HardCover)           베르나르 베르베르 장편소설  20170608.0   \n",
       "2  82년생 김지영(오늘의 젊은 작가 13)(양장본 HardCover)                 조남주 장편소설  20161014.0   \n",
       "3                                  말의 품격        말과 사람과 품격에 대한 생각들  20190318.0   \n",
       "4                                오직 두 사람                   김영하 소설  20170525.0   \n",
       "\n",
       "      분야       정가   평점   쪽수  eBook 여부  제목 길이  순위  베스트셀러 여부  \n",
       "0  시/에세이  13800.0  8.8  308         1      6   1         1  \n",
       "1     소설  13800.0  9.3  336         1      4   2         1  \n",
       "2     소설  13000.0  8.9  192         1      8   3         1  \n",
       "3     인문  14500.0  8.7  232         1      5   4         1  \n",
       "4     소설  13000.0  9.2  272         1      7   5         1  "
      ]
     },
     "execution_count": 3,
     "metadata": {},
     "output_type": "execute_result"
    }
   ],
   "source": [
    "spring.head()"
   ]
  },
  {
   "cell_type": "code",
   "execution_count": 4,
   "metadata": {},
   "outputs": [],
   "source": [
    "spring.loc[spring['분야'] == '소설', '분야'] = 1\n",
    "spring.loc[spring['분야'] == '시/에세이', '분야'] = 2\n",
    "spring.loc[spring['분야'] == '인문', '분야'] = 3\n",
    "spring.loc[spring['분야'] == '가정/육아', '분야'] = 4\n",
    "spring.loc[spring['분야'] == '요리', '분야'] = 5\n",
    "spring.loc[spring['분야'] == '건강', '분야'] = 6\n",
    "spring.loc[spring['분야'] == '취미/실용/스포츠', '분야'] = 7\n",
    "spring.loc[spring['분야'] == '경제/경영', '분야'] = 8\n",
    "spring.loc[spring['분야'] == '자기계발', '분야'] = 9\n",
    "spring.loc[spring['분야'] == '정치/사회', '분야'] = 10\n",
    "spring.loc[spring['분야'] == '역사/문화', '분야'] = 11\n",
    "spring.loc[spring['분야'] == '종교', '분야'] = 11\n",
    "spring.loc[spring['분야'] == '예술/대중문화', '분야'] = 11\n",
    "spring.loc[spring['분야'] == '한국소개도서', '분야'] = 11\n",
    "spring.loc[spring['분야'] == '중/고등참고서', '분야'] = 12\n",
    "spring.loc[spring['분야'] == '대학교재', '분야'] = 12\n",
    "spring.loc[spring['분야'] == '기술/공학', '분야'] = 13\n",
    "spring.loc[spring['분야'] == '컴퓨터/IT', '분야'] = 13\n",
    "spring.loc[spring['분야'] == '외국어', '분야'] = 14\n",
    "spring.loc[spring['분야'] == '여행', '분야'] = 14\n",
    "spring.loc[spring['분야'] == '과학', '분야'] = 15\n",
    "spring.loc[spring['분야'] == '취업/수험서', '분야'] = 16\n",
    "spring.loc[spring['분야'] == '자격증/수험서작가', '분야'] = 16\n",
    "spring.loc[spring['분야'] == '잡지', '분야'] = 17\n",
    "spring.loc[spring['분야'] == '만화', '분야'] = 17\n",
    "spring.loc[spring['분야'] == ':K컬렉션', '분야'] = 17\n",
    "spring.loc[spring['분야'] == '청소년', '분야'] = 18\n",
    "spring.loc[spring['분야'] == '초등참고서', '분야'] = 19\n",
    "spring.loc[spring['분야'] == '어린이(초등)', '분야'] = 19\n",
    "spring.loc[spring['분야'] == '어린이전집', '분야'] = 19\n",
    "spring.loc[spring['분야'] == '어린이영어', '분야'] = 19\n",
    "spring.loc[spring['분야'] == '유아(0~7세)', '분야'] = 20\n",
    "spring.loc[spring['분야'] == '', '분야'] = 0"
   ]
  },
  {
   "cell_type": "code",
   "execution_count": 5,
   "metadata": {},
   "outputs": [],
   "source": [
    "spring.loc[spring['쪽수'] == '준비중', '쪽수'] = 371\n",
    "spring.loc[spring['쪽수'] == '210 * 270 mm  판형알림', '쪽수'] = 371\n",
    "spring.loc[spring['쪽수'] == '178 * 238 * 18 mm /357g  판형알림', '쪽수'] = 371"
   ]
  },
  {
   "cell_type": "code",
   "execution_count": 6,
   "metadata": {},
   "outputs": [],
   "source": [
    "spring.loc[spring['부제목'].notnull(), '부제목'] = 1\n",
    "spring.loc[spring['부제목'].isnull(), '부제목'] = 0"
   ]
  },
  {
   "cell_type": "code",
   "execution_count": 7,
   "metadata": {},
   "outputs": [],
   "source": [
    "spring['정가'] = spring['정가'].fillna(spring['정가'].mean())\n",
    "spring['평점'] = spring['평점'].fillna(spring['평점'].mean())\n",
    "spring.loc[spring['분야'].isnull(), '분야'] = 0"
   ]
  },
  {
   "cell_type": "code",
   "execution_count": 8,
   "metadata": {},
   "outputs": [],
   "source": [
    "spring['쪽수'] = spring['쪽수'].astype(int)\n",
    "spring['분야'] = spring['분야'].astype(int)"
   ]
  },
  {
   "cell_type": "code",
   "execution_count": 9,
   "metadata": {},
   "outputs": [
    {
     "name": "stdout",
     "output_type": "stream",
     "text": [
      "int32\n",
      "int32\n",
      "int64\n",
      "float64\n"
     ]
    }
   ],
   "source": [
    "print(spring['쪽수'].dtype)\n",
    "print(spring['분야'].dtype)\n",
    "print(spring['제목 길이'].dtype)\n",
    "print(spring['정가'].dtype)"
   ]
  },
  {
   "cell_type": "code",
   "execution_count": 10,
   "metadata": {},
   "outputs": [
    {
     "data": {
      "text/html": [
       "<div>\n",
       "<style scoped>\n",
       "    .dataframe tbody tr th:only-of-type {\n",
       "        vertical-align: middle;\n",
       "    }\n",
       "\n",
       "    .dataframe tbody tr th {\n",
       "        vertical-align: top;\n",
       "    }\n",
       "\n",
       "    .dataframe thead th {\n",
       "        text-align: right;\n",
       "    }\n",
       "</style>\n",
       "<table border=\"1\" class=\"dataframe\">\n",
       "  <thead>\n",
       "    <tr style=\"text-align: right;\">\n",
       "      <th></th>\n",
       "      <th>도서명</th>\n",
       "      <th>부제목</th>\n",
       "      <th>출간일</th>\n",
       "      <th>분야</th>\n",
       "      <th>정가</th>\n",
       "      <th>평점</th>\n",
       "      <th>쪽수</th>\n",
       "      <th>eBook 여부</th>\n",
       "      <th>제목 길이</th>\n",
       "      <th>순위</th>\n",
       "      <th>베스트셀러 여부</th>\n",
       "    </tr>\n",
       "  </thead>\n",
       "  <tbody>\n",
       "    <tr>\n",
       "      <th>0</th>\n",
       "      <td>언어의 온도(3주년 150만부 기념 에디션)</td>\n",
       "      <td>1</td>\n",
       "      <td>20160819.0</td>\n",
       "      <td>2</td>\n",
       "      <td>13800.0</td>\n",
       "      <td>8.8</td>\n",
       "      <td>308</td>\n",
       "      <td>1</td>\n",
       "      <td>6</td>\n",
       "      <td>1</td>\n",
       "      <td>1</td>\n",
       "    </tr>\n",
       "    <tr>\n",
       "      <th>1</th>\n",
       "      <td>잠. 1(양장본 HardCover)</td>\n",
       "      <td>1</td>\n",
       "      <td>20170608.0</td>\n",
       "      <td>1</td>\n",
       "      <td>13800.0</td>\n",
       "      <td>9.3</td>\n",
       "      <td>336</td>\n",
       "      <td>1</td>\n",
       "      <td>4</td>\n",
       "      <td>2</td>\n",
       "      <td>1</td>\n",
       "    </tr>\n",
       "    <tr>\n",
       "      <th>2</th>\n",
       "      <td>82년생 김지영(오늘의 젊은 작가 13)(양장본 HardCover)</td>\n",
       "      <td>1</td>\n",
       "      <td>20161014.0</td>\n",
       "      <td>1</td>\n",
       "      <td>13000.0</td>\n",
       "      <td>8.9</td>\n",
       "      <td>192</td>\n",
       "      <td>1</td>\n",
       "      <td>8</td>\n",
       "      <td>3</td>\n",
       "      <td>1</td>\n",
       "    </tr>\n",
       "    <tr>\n",
       "      <th>3</th>\n",
       "      <td>말의 품격</td>\n",
       "      <td>1</td>\n",
       "      <td>20190318.0</td>\n",
       "      <td>3</td>\n",
       "      <td>14500.0</td>\n",
       "      <td>8.7</td>\n",
       "      <td>232</td>\n",
       "      <td>1</td>\n",
       "      <td>5</td>\n",
       "      <td>4</td>\n",
       "      <td>1</td>\n",
       "    </tr>\n",
       "    <tr>\n",
       "      <th>4</th>\n",
       "      <td>오직 두 사람</td>\n",
       "      <td>1</td>\n",
       "      <td>20170525.0</td>\n",
       "      <td>1</td>\n",
       "      <td>13000.0</td>\n",
       "      <td>9.2</td>\n",
       "      <td>272</td>\n",
       "      <td>1</td>\n",
       "      <td>7</td>\n",
       "      <td>5</td>\n",
       "      <td>1</td>\n",
       "    </tr>\n",
       "  </tbody>\n",
       "</table>\n",
       "</div>"
      ],
      "text/plain": [
       "                                     도서명 부제목         출간일  분야       정가   평점  \\\n",
       "0               언어의 온도(3주년 150만부 기념 에디션)   1  20160819.0   2  13800.0  8.8   \n",
       "1                    잠. 1(양장본 HardCover)   1  20170608.0   1  13800.0  9.3   \n",
       "2  82년생 김지영(오늘의 젊은 작가 13)(양장본 HardCover)   1  20161014.0   1  13000.0  8.9   \n",
       "3                                  말의 품격   1  20190318.0   3  14500.0  8.7   \n",
       "4                                오직 두 사람   1  20170525.0   1  13000.0  9.2   \n",
       "\n",
       "    쪽수  eBook 여부  제목 길이  순위  베스트셀러 여부  \n",
       "0  308         1      6   1         1  \n",
       "1  336         1      4   2         1  \n",
       "2  192         1      8   3         1  \n",
       "3  232         1      5   4         1  \n",
       "4  272         1      7   5         1  "
      ]
     },
     "execution_count": 10,
     "metadata": {},
     "output_type": "execute_result"
    }
   ],
   "source": [
    "spring.head()"
   ]
  },
  {
   "cell_type": "code",
   "execution_count": 11,
   "metadata": {
    "scrolled": true
   },
   "outputs": [
    {
     "data": {
      "text/html": [
       "<div>\n",
       "<style scoped>\n",
       "    .dataframe tbody tr th:only-of-type {\n",
       "        vertical-align: middle;\n",
       "    }\n",
       "\n",
       "    .dataframe tbody tr th {\n",
       "        vertical-align: top;\n",
       "    }\n",
       "\n",
       "    .dataframe thead th {\n",
       "        text-align: right;\n",
       "    }\n",
       "</style>\n",
       "<table border=\"1\" class=\"dataframe\">\n",
       "  <thead>\n",
       "    <tr style=\"text-align: right;\">\n",
       "      <th></th>\n",
       "      <th>도서명</th>\n",
       "      <th>부제목</th>\n",
       "      <th>출간일</th>\n",
       "      <th>분야</th>\n",
       "      <th>정가</th>\n",
       "      <th>평점</th>\n",
       "      <th>쪽수</th>\n",
       "      <th>eBook 여부</th>\n",
       "      <th>제목 길이</th>\n",
       "      <th>순위</th>\n",
       "      <th>베스트셀러 여부</th>\n",
       "    </tr>\n",
       "  </thead>\n",
       "  <tbody>\n",
       "    <tr>\n",
       "      <th>14983</th>\n",
       "      <td>다크 타워. 6: 수재나의 노래</td>\n",
       "      <td>0</td>\n",
       "      <td>20191226.0</td>\n",
       "      <td>1</td>\n",
       "      <td>18000.0</td>\n",
       "      <td>8.6</td>\n",
       "      <td>644</td>\n",
       "      <td>1</td>\n",
       "      <td>17</td>\n",
       "      <td>0</td>\n",
       "      <td>0</td>\n",
       "    </tr>\n",
       "    <tr>\n",
       "      <th>14984</th>\n",
       "      <td>논점민법강의: 가족법(6판)</td>\n",
       "      <td>0</td>\n",
       "      <td>20200101.0</td>\n",
       "      <td>16</td>\n",
       "      <td>20000.0</td>\n",
       "      <td>9.3</td>\n",
       "      <td>263</td>\n",
       "      <td>0</td>\n",
       "      <td>11</td>\n",
       "      <td>0</td>\n",
       "      <td>0</td>\n",
       "    </tr>\n",
       "    <tr>\n",
       "      <th>14985</th>\n",
       "      <td>하이스쿨 D×D. 11(완결)</td>\n",
       "      <td>0</td>\n",
       "      <td>20200101.0</td>\n",
       "      <td>17</td>\n",
       "      <td>5500.0</td>\n",
       "      <td>10.0</td>\n",
       "      <td>160</td>\n",
       "      <td>1</td>\n",
       "      <td>12</td>\n",
       "      <td>0</td>\n",
       "      <td>0</td>\n",
       "    </tr>\n",
       "    <tr>\n",
       "      <th>14986</th>\n",
       "      <td>리키, 너도 구를 수 있어!(양장본 HardCover)</td>\n",
       "      <td>0</td>\n",
       "      <td>20191122.0</td>\n",
       "      <td>20</td>\n",
       "      <td>12000.0</td>\n",
       "      <td>0.0</td>\n",
       "      <td>36</td>\n",
       "      <td>0</td>\n",
       "      <td>15</td>\n",
       "      <td>0</td>\n",
       "      <td>0</td>\n",
       "    </tr>\n",
       "    <tr>\n",
       "      <th>14987</th>\n",
       "      <td>라임튜브와 함께하는 우리 아이 유튜브 스타 만들기</td>\n",
       "      <td>1</td>\n",
       "      <td>20200106.0</td>\n",
       "      <td>13</td>\n",
       "      <td>15000.0</td>\n",
       "      <td>10.0</td>\n",
       "      <td>224</td>\n",
       "      <td>1</td>\n",
       "      <td>27</td>\n",
       "      <td>0</td>\n",
       "      <td>0</td>\n",
       "    </tr>\n",
       "  </tbody>\n",
       "</table>\n",
       "</div>"
      ],
      "text/plain": [
       "                                  도서명 부제목         출간일  분야       정가    평점   쪽수  \\\n",
       "14983               다크 타워. 6: 수재나의 노래   0  20191226.0   1  18000.0   8.6  644   \n",
       "14984                 논점민법강의: 가족법(6판)   0  20200101.0  16  20000.0   9.3  263   \n",
       "14985                하이스쿨 D×D. 11(완결)   0  20200101.0  17   5500.0  10.0  160   \n",
       "14986  리키, 너도 구를 수 있어!(양장본 HardCover)   0  20191122.0  20  12000.0   0.0   36   \n",
       "14987     라임튜브와 함께하는 우리 아이 유튜브 스타 만들기   1  20200106.0  13  15000.0  10.0  224   \n",
       "\n",
       "       eBook 여부  제목 길이  순위  베스트셀러 여부  \n",
       "14983         1     17   0         0  \n",
       "14984         0     11   0         0  \n",
       "14985         1     12   0         0  \n",
       "14986         0     15   0         0  \n",
       "14987         1     27   0         0  "
      ]
     },
     "execution_count": 11,
     "metadata": {},
     "output_type": "execute_result"
    }
   ],
   "source": [
    "spring.tail()"
   ]
  },
  {
   "cell_type": "code",
   "execution_count": 12,
   "metadata": {},
   "outputs": [
    {
     "data": {
      "text/html": [
       "<div>\n",
       "<style scoped>\n",
       "    .dataframe tbody tr th:only-of-type {\n",
       "        vertical-align: middle;\n",
       "    }\n",
       "\n",
       "    .dataframe tbody tr th {\n",
       "        vertical-align: top;\n",
       "    }\n",
       "\n",
       "    .dataframe thead th {\n",
       "        text-align: right;\n",
       "    }\n",
       "</style>\n",
       "<table border=\"1\" class=\"dataframe\">\n",
       "  <thead>\n",
       "    <tr style=\"text-align: right;\">\n",
       "      <th></th>\n",
       "      <th>도서명</th>\n",
       "      <th>부제목</th>\n",
       "      <th>출간일</th>\n",
       "      <th>분야</th>\n",
       "      <th>정가</th>\n",
       "      <th>평점</th>\n",
       "      <th>쪽수</th>\n",
       "      <th>eBook 여부</th>\n",
       "      <th>제목 길이</th>\n",
       "      <th>순위</th>\n",
       "      <th>베스트셀러 여부</th>\n",
       "    </tr>\n",
       "  </thead>\n",
       "  <tbody>\n",
       "    <tr>\n",
       "      <th>0</th>\n",
       "      <td>언어의 온도(3주년 150만부 기념 에디션)</td>\n",
       "      <td>1</td>\n",
       "      <td>20160819.0</td>\n",
       "      <td>2</td>\n",
       "      <td>13800.0</td>\n",
       "      <td>8.8</td>\n",
       "      <td>308</td>\n",
       "      <td>1</td>\n",
       "      <td>6</td>\n",
       "      <td>1</td>\n",
       "      <td>1</td>\n",
       "    </tr>\n",
       "    <tr>\n",
       "      <th>1</th>\n",
       "      <td>잠. 1(양장본 HardCover)</td>\n",
       "      <td>1</td>\n",
       "      <td>20170608.0</td>\n",
       "      <td>1</td>\n",
       "      <td>13800.0</td>\n",
       "      <td>9.3</td>\n",
       "      <td>336</td>\n",
       "      <td>1</td>\n",
       "      <td>4</td>\n",
       "      <td>2</td>\n",
       "      <td>1</td>\n",
       "    </tr>\n",
       "    <tr>\n",
       "      <th>2</th>\n",
       "      <td>82년생 김지영(오늘의 젊은 작가 13)(양장본 HardCover)</td>\n",
       "      <td>1</td>\n",
       "      <td>20161014.0</td>\n",
       "      <td>1</td>\n",
       "      <td>13000.0</td>\n",
       "      <td>8.9</td>\n",
       "      <td>192</td>\n",
       "      <td>1</td>\n",
       "      <td>8</td>\n",
       "      <td>3</td>\n",
       "      <td>1</td>\n",
       "    </tr>\n",
       "    <tr>\n",
       "      <th>3</th>\n",
       "      <td>말의 품격</td>\n",
       "      <td>1</td>\n",
       "      <td>20190318.0</td>\n",
       "      <td>3</td>\n",
       "      <td>14500.0</td>\n",
       "      <td>8.7</td>\n",
       "      <td>232</td>\n",
       "      <td>1</td>\n",
       "      <td>5</td>\n",
       "      <td>4</td>\n",
       "      <td>1</td>\n",
       "    </tr>\n",
       "    <tr>\n",
       "      <th>4</th>\n",
       "      <td>오직 두 사람</td>\n",
       "      <td>1</td>\n",
       "      <td>20170525.0</td>\n",
       "      <td>1</td>\n",
       "      <td>13000.0</td>\n",
       "      <td>9.2</td>\n",
       "      <td>272</td>\n",
       "      <td>1</td>\n",
       "      <td>7</td>\n",
       "      <td>5</td>\n",
       "      <td>1</td>\n",
       "    </tr>\n",
       "  </tbody>\n",
       "</table>\n",
       "</div>"
      ],
      "text/plain": [
       "                                     도서명 부제목         출간일  분야       정가   평점  \\\n",
       "0               언어의 온도(3주년 150만부 기념 에디션)   1  20160819.0   2  13800.0  8.8   \n",
       "1                    잠. 1(양장본 HardCover)   1  20170608.0   1  13800.0  9.3   \n",
       "2  82년생 김지영(오늘의 젊은 작가 13)(양장본 HardCover)   1  20161014.0   1  13000.0  8.9   \n",
       "3                                  말의 품격   1  20190318.0   3  14500.0  8.7   \n",
       "4                                오직 두 사람   1  20170525.0   1  13000.0  9.2   \n",
       "\n",
       "    쪽수  eBook 여부  제목 길이  순위  베스트셀러 여부  \n",
       "0  308         1      6   1         1  \n",
       "1  336         1      4   2         1  \n",
       "2  192         1      8   3         1  \n",
       "3  232         1      5   4         1  \n",
       "4  272         1      7   5         1  "
      ]
     },
     "execution_count": 12,
     "metadata": {},
     "output_type": "execute_result"
    }
   ],
   "source": [
    "spring.head()"
   ]
  },
  {
   "cell_type": "code",
   "execution_count": 13,
   "metadata": {
    "scrolled": true
   },
   "outputs": [
    {
     "data": {
      "text/html": [
       "<div>\n",
       "<style scoped>\n",
       "    .dataframe tbody tr th:only-of-type {\n",
       "        vertical-align: middle;\n",
       "    }\n",
       "\n",
       "    .dataframe tbody tr th {\n",
       "        vertical-align: top;\n",
       "    }\n",
       "\n",
       "    .dataframe thead th {\n",
       "        text-align: right;\n",
       "    }\n",
       "</style>\n",
       "<table border=\"1\" class=\"dataframe\">\n",
       "  <thead>\n",
       "    <tr style=\"text-align: right;\">\n",
       "      <th></th>\n",
       "      <th>도서명</th>\n",
       "      <th>부제목</th>\n",
       "      <th>출간일</th>\n",
       "      <th>분야</th>\n",
       "      <th>정가</th>\n",
       "      <th>평점</th>\n",
       "      <th>쪽수</th>\n",
       "      <th>eBook 여부</th>\n",
       "      <th>제목 길이</th>\n",
       "      <th>순위</th>\n",
       "      <th>베스트셀러 여부</th>\n",
       "    </tr>\n",
       "  </thead>\n",
       "  <tbody>\n",
       "    <tr>\n",
       "      <th>14983</th>\n",
       "      <td>다크 타워. 6: 수재나의 노래</td>\n",
       "      <td>0</td>\n",
       "      <td>20191226.0</td>\n",
       "      <td>1</td>\n",
       "      <td>18000.0</td>\n",
       "      <td>8.6</td>\n",
       "      <td>644</td>\n",
       "      <td>1</td>\n",
       "      <td>17</td>\n",
       "      <td>0</td>\n",
       "      <td>0</td>\n",
       "    </tr>\n",
       "    <tr>\n",
       "      <th>14984</th>\n",
       "      <td>논점민법강의: 가족법(6판)</td>\n",
       "      <td>0</td>\n",
       "      <td>20200101.0</td>\n",
       "      <td>16</td>\n",
       "      <td>20000.0</td>\n",
       "      <td>9.3</td>\n",
       "      <td>263</td>\n",
       "      <td>0</td>\n",
       "      <td>11</td>\n",
       "      <td>0</td>\n",
       "      <td>0</td>\n",
       "    </tr>\n",
       "    <tr>\n",
       "      <th>14985</th>\n",
       "      <td>하이스쿨 D×D. 11(완결)</td>\n",
       "      <td>0</td>\n",
       "      <td>20200101.0</td>\n",
       "      <td>17</td>\n",
       "      <td>5500.0</td>\n",
       "      <td>10.0</td>\n",
       "      <td>160</td>\n",
       "      <td>1</td>\n",
       "      <td>12</td>\n",
       "      <td>0</td>\n",
       "      <td>0</td>\n",
       "    </tr>\n",
       "    <tr>\n",
       "      <th>14986</th>\n",
       "      <td>리키, 너도 구를 수 있어!(양장본 HardCover)</td>\n",
       "      <td>0</td>\n",
       "      <td>20191122.0</td>\n",
       "      <td>20</td>\n",
       "      <td>12000.0</td>\n",
       "      <td>0.0</td>\n",
       "      <td>36</td>\n",
       "      <td>0</td>\n",
       "      <td>15</td>\n",
       "      <td>0</td>\n",
       "      <td>0</td>\n",
       "    </tr>\n",
       "    <tr>\n",
       "      <th>14987</th>\n",
       "      <td>라임튜브와 함께하는 우리 아이 유튜브 스타 만들기</td>\n",
       "      <td>1</td>\n",
       "      <td>20200106.0</td>\n",
       "      <td>13</td>\n",
       "      <td>15000.0</td>\n",
       "      <td>10.0</td>\n",
       "      <td>224</td>\n",
       "      <td>1</td>\n",
       "      <td>27</td>\n",
       "      <td>0</td>\n",
       "      <td>0</td>\n",
       "    </tr>\n",
       "  </tbody>\n",
       "</table>\n",
       "</div>"
      ],
      "text/plain": [
       "                                  도서명 부제목         출간일  분야       정가    평점   쪽수  \\\n",
       "14983               다크 타워. 6: 수재나의 노래   0  20191226.0   1  18000.0   8.6  644   \n",
       "14984                 논점민법강의: 가족법(6판)   0  20200101.0  16  20000.0   9.3  263   \n",
       "14985                하이스쿨 D×D. 11(완결)   0  20200101.0  17   5500.0  10.0  160   \n",
       "14986  리키, 너도 구를 수 있어!(양장본 HardCover)   0  20191122.0  20  12000.0   0.0   36   \n",
       "14987     라임튜브와 함께하는 우리 아이 유튜브 스타 만들기   1  20200106.0  13  15000.0  10.0  224   \n",
       "\n",
       "       eBook 여부  제목 길이  순위  베스트셀러 여부  \n",
       "14983         1     17   0         0  \n",
       "14984         0     11   0         0  \n",
       "14985         1     12   0         0  \n",
       "14986         0     15   0         0  \n",
       "14987         1     27   0         0  "
      ]
     },
     "execution_count": 13,
     "metadata": {},
     "output_type": "execute_result"
    }
   ],
   "source": [
    "spring.tail()"
   ]
  },
  {
   "cell_type": "code",
   "execution_count": 14,
   "metadata": {},
   "outputs": [],
   "source": [
    "spring = spring[['부제목', '분야', '정가', '평점', '쪽수', 'eBook 여부', '제목 길이', '순위', '베스트셀러 여부']]"
   ]
  },
  {
   "cell_type": "code",
   "execution_count": 15,
   "metadata": {},
   "outputs": [
    {
     "data": {
      "text/plain": [
       "부제목         0\n",
       "분야          0\n",
       "정가          0\n",
       "평점          0\n",
       "쪽수          0\n",
       "eBook 여부    0\n",
       "제목 길이       0\n",
       "순위          0\n",
       "베스트셀러 여부    0\n",
       "dtype: int64"
      ]
     },
     "execution_count": 15,
     "metadata": {},
     "output_type": "execute_result"
    }
   ],
   "source": [
    "spring.isnull().sum()"
   ]
  },
  {
   "cell_type": "code",
   "execution_count": 16,
   "metadata": {},
   "outputs": [
    {
     "data": {
      "text/plain": [
       "부제목         0\n",
       "분야          0\n",
       "정가          0\n",
       "평점          0\n",
       "쪽수          0\n",
       "eBook 여부    0\n",
       "제목 길이       0\n",
       "순위          0\n",
       "베스트셀러 여부    0\n",
       "dtype: int64"
      ]
     },
     "execution_count": 16,
     "metadata": {},
     "output_type": "execute_result"
    }
   ],
   "source": [
    "spring.isnull().sum()"
   ]
  },
  {
   "cell_type": "code",
   "execution_count": 17,
   "metadata": {
    "scrolled": true
   },
   "outputs": [
    {
     "name": "stdout",
     "output_type": "stream",
     "text": [
      "float64\n",
      "float64\n",
      "int32\n",
      "int64\n",
      "object\n",
      "int32\n",
      "int64\n"
     ]
    }
   ],
   "source": [
    "print(spring['평점'].dtypes)\n",
    "print(spring['정가'].dtypes)\n",
    "print(spring['분야'].dtypes)\n",
    "print(spring['eBook 여부'].dtypes)\n",
    "print(spring['부제목'].dtypes)\n",
    "print(spring['쪽수'].dtypes)\n",
    "print(spring['제목 길이'].dtypes)"
   ]
  },
  {
   "cell_type": "markdown",
   "metadata": {},
   "source": [
    "## 로지스틱 회귀분석"
   ]
  },
  {
   "cell_type": "code",
   "execution_count": 18,
   "metadata": {},
   "outputs": [],
   "source": [
    "import numpy as np\n",
    "from sklearn import datasets\n",
    "from sklearn.model_selection import train_test_split"
   ]
  },
  {
   "cell_type": "code",
   "execution_count": 19,
   "metadata": {},
   "outputs": [],
   "source": [
    "x_data = spring[['부제목', '쪽수', 'eBook 여부', '제목 길이','평점','정가']] \n",
    "y_data = spring['베스트셀러 여부']\n",
    "x_train, x_test, y_train, y_test = train_test_split(x_data, y_data, test_size=0.2, random_state=0)"
   ]
  },
  {
   "cell_type": "code",
   "execution_count": 20,
   "metadata": {},
   "outputs": [],
   "source": [
    "from sklearn.preprocessing import StandardScaler\n",
    "scaler = StandardScaler()\n",
    "xs_train = scaler.fit_transform(x_train)"
   ]
  },
  {
   "cell_type": "code",
   "execution_count": 21,
   "metadata": {},
   "outputs": [
    {
     "data": {
      "text/html": [
       "<div>\n",
       "<style scoped>\n",
       "    .dataframe tbody tr th:only-of-type {\n",
       "        vertical-align: middle;\n",
       "    }\n",
       "\n",
       "    .dataframe tbody tr th {\n",
       "        vertical-align: top;\n",
       "    }\n",
       "\n",
       "    .dataframe thead th {\n",
       "        text-align: right;\n",
       "    }\n",
       "</style>\n",
       "<table border=\"1\" class=\"dataframe\">\n",
       "  <thead>\n",
       "    <tr style=\"text-align: right;\">\n",
       "      <th></th>\n",
       "      <th>부제목</th>\n",
       "      <th>쪽수</th>\n",
       "      <th>eBook 여부</th>\n",
       "      <th>제목 길이</th>\n",
       "      <th>평점</th>\n",
       "      <th>정가</th>\n",
       "    </tr>\n",
       "  </thead>\n",
       "  <tbody>\n",
       "    <tr>\n",
       "      <th>0</th>\n",
       "      <td>1</td>\n",
       "      <td>308</td>\n",
       "      <td>1</td>\n",
       "      <td>6</td>\n",
       "      <td>8.8</td>\n",
       "      <td>13800.0</td>\n",
       "    </tr>\n",
       "    <tr>\n",
       "      <th>1</th>\n",
       "      <td>1</td>\n",
       "      <td>336</td>\n",
       "      <td>1</td>\n",
       "      <td>4</td>\n",
       "      <td>9.3</td>\n",
       "      <td>13800.0</td>\n",
       "    </tr>\n",
       "    <tr>\n",
       "      <th>2</th>\n",
       "      <td>1</td>\n",
       "      <td>192</td>\n",
       "      <td>1</td>\n",
       "      <td>8</td>\n",
       "      <td>8.9</td>\n",
       "      <td>13000.0</td>\n",
       "    </tr>\n",
       "    <tr>\n",
       "      <th>3</th>\n",
       "      <td>1</td>\n",
       "      <td>232</td>\n",
       "      <td>1</td>\n",
       "      <td>5</td>\n",
       "      <td>8.7</td>\n",
       "      <td>14500.0</td>\n",
       "    </tr>\n",
       "    <tr>\n",
       "      <th>4</th>\n",
       "      <td>1</td>\n",
       "      <td>272</td>\n",
       "      <td>1</td>\n",
       "      <td>7</td>\n",
       "      <td>9.2</td>\n",
       "      <td>13000.0</td>\n",
       "    </tr>\n",
       "  </tbody>\n",
       "</table>\n",
       "</div>"
      ],
      "text/plain": [
       "  부제목   쪽수  eBook 여부  제목 길이   평점       정가\n",
       "0   1  308         1      6  8.8  13800.0\n",
       "1   1  336         1      4  9.3  13800.0\n",
       "2   1  192         1      8  8.9  13000.0\n",
       "3   1  232         1      5  8.7  14500.0\n",
       "4   1  272         1      7  9.2  13000.0"
      ]
     },
     "execution_count": 21,
     "metadata": {},
     "output_type": "execute_result"
    }
   ],
   "source": [
    "x_data.head()"
   ]
  },
  {
   "cell_type": "code",
   "execution_count": 22,
   "metadata": {},
   "outputs": [
    {
     "name": "stdout",
     "output_type": "stream",
     "text": [
      "학습용 데이터셋 정확도 : 0.66\n",
      "검증용 데이터셋 정확도 : 0.67\n"
     ]
    }
   ],
   "source": [
    "from sklearn.linear_model import LogisticRegression\n",
    "\n",
    "log = LogisticRegression() #로지스틱 회귀분석 시행\n",
    "\n",
    "log.fit(x_train, y_train) #모델 피팅(학습시키기)\n",
    "print('학습용 데이터셋 정확도 : %.2f' % log.score(x_train, y_train)) #정확도\n",
    "print('검증용 데이터셋 정확도 : %.2f' % log.score(x_test, y_test))"
   ]
  },
  {
   "cell_type": "code",
   "execution_count": null,
   "metadata": {},
   "outputs": [],
   "source": [
    "import statsmodels.api as sm"
   ]
  },
  {
   "cell_type": "code",
   "execution_count": null,
   "metadata": {
    "scrolled": true
   },
   "outputs": [],
   "source": [
    "pd.DataFrame(range(100)).dtypes\n",
    "logit = sm.Logit(y_data.astype(float), x_data.astype(float)) \n",
    "result = logit.fit()\n",
    "# est = sm.OLS (y.astype (float), X.astype (array)). fit ()"
   ]
  },
  {
   "cell_type": "code",
   "execution_count": null,
   "metadata": {
    "scrolled": false
   },
   "outputs": [],
   "source": [
    "result.summary2()"
   ]
  },
  {
   "cell_type": "markdown",
   "metadata": {},
   "source": [
    "## 오즈비\n",
    "#### 1에 가까울 수록 종속변수와 관련 없는것 (다른 설명변수는 고정)"
   ]
  },
  {
   "cell_type": "code",
   "execution_count": null,
   "metadata": {},
   "outputs": [],
   "source": [
    "np.exp(result.params)"
   ]
  },
  {
   "cell_type": "markdown",
   "metadata": {},
   "source": [
    "## X간 상관관계 확인"
   ]
  },
  {
   "cell_type": "code",
   "execution_count": null,
   "metadata": {},
   "outputs": [],
   "source": [
    "x_data.corr()"
   ]
  },
  {
   "cell_type": "code",
   "execution_count": null,
   "metadata": {},
   "outputs": [],
   "source": [
    "spring_x = spring[['부제목', '분야', '정가', '평점', '쪽수', 'eBook 여부', '제목 길이']]\n",
    "spring_x.corr()"
   ]
  },
  {
   "cell_type": "code",
   "execution_count": null,
   "metadata": {},
   "outputs": [],
   "source": [
    "import matplotlib.pyplot as plt\n",
    "%matplotlib inline\n",
    "import seaborn as sns\n",
    "sns.set()\n",
    "\n",
    "cmap = sns.light_palette(\"darkgray\", as_cmap=True)\n",
    "sns.heatmap(spring_x.corr(), annot=True, cmap=cmap)\n",
    "plt.show()"
   ]
  },
  {
   "cell_type": "markdown",
   "metadata": {},
   "source": [
    "## 다중공선성 확인 VIF"
   ]
  },
  {
   "cell_type": "code",
   "execution_count": null,
   "metadata": {},
   "outputs": [],
   "source": [
    "import statsmodels.api as sm;\n",
    "from statsmodels.stats.outliers_influence import variance_inflation_factor\n",
    "%matplotlib inline\n",
    "from patsy import dmatrices"
   ]
  },
  {
   "cell_type": "code",
   "execution_count": null,
   "metadata": {},
   "outputs": [],
   "source": [
    "subtit = spring['부제목']\n",
    "page = spring['쪽수']\n",
    "price = spring['정가']\n",
    "ebook = spring['eBook 여부']\n",
    "title = spring['제목 길이']\n",
    "field = spring['분야']\n",
    "bestseller = spring['베스트셀러 여부']"
   ]
  },
  {
   "cell_type": "code",
   "execution_count": null,
   "metadata": {},
   "outputs": [],
   "source": [
    "y, X = dmatrices('bestseller ~ subtit + page + price + ebook + title + field', data=spring, return_type = 'dataframe')\n",
    "\n",
    "vif = pd.DataFrame()\n",
    "vif[\"VIF Factor\"] = [variance_inflation_factor(X.values, i) for i in range(X.shape[1])]\n",
    "vif[\"features\"] = X.columns \n",
    "vif"
   ]
  },
  {
   "cell_type": "code",
   "execution_count": null,
   "metadata": {},
   "outputs": [],
   "source": []
  }
 ],
 "metadata": {
  "kernelspec": {
   "display_name": "Python 3",
   "language": "python",
   "name": "python3"
  },
  "language_info": {
   "codemirror_mode": {
    "name": "ipython",
    "version": 3
   },
   "file_extension": ".py",
   "mimetype": "text/x-python",
   "name": "python",
   "nbconvert_exporter": "python",
   "pygments_lexer": "ipython3",
   "version": "3.7.6"
  }
 },
 "nbformat": 4,
 "nbformat_minor": 4
}
