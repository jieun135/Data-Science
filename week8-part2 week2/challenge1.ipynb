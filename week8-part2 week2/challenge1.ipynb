{
 "cells": [
  {
   "cell_type": "markdown",
   "metadata": {},
   "source": [
    "전화번호부 만들기 "
   ]
  },
  {
   "cell_type": "code",
   "execution_count": 2,
   "metadata": {},
   "outputs": [
    {
     "name": "stdout",
     "output_type": "stream",
     "text": [
      "1단계:전체 출력하기\n",
      "[{'name': '박지성', 'phone': '01034672893'}, {'name': '이청용', 'phone': '010334234321'}, {'name': '손흥민', 'phone': '02042313131'}]\n",
      "---------------------\n",
      "2단계 : 이청용 정보만 출력하기\n",
      "{'name': '이청용', 'phone': '010334234321'}\n"
     ]
    }
   ],
   "source": [
    "phonebook = [\n",
    "    {\n",
    "        'name':'박지성',\n",
    "        'phone':'01034672893',\n",
    "    },\n",
    "    {\n",
    "        'name':'이청용',\n",
    "        'phone':'010334234321'\n",
    "    },\n",
    "    {\n",
    "        'name':'손흥민',\n",
    "        'phone':'02042313131'\n",
    "    }\n",
    "]\n",
    "\n",
    "#1단계 \n",
    "print('1단계:전체 출력하기')\n",
    "print(phonebook)\n",
    "\n",
    "#2단계 \n",
    "print('---------------------')\n",
    "print('2단계 : 이청용 정보만 출력하기')\n",
    "print(phonebook[1])"
   ]
  },
  {
   "cell_type": "code",
   "execution_count": null,
   "metadata": {},
   "outputs": [],
   "source": []
  }
 ],
 "metadata": {
  "kernelspec": {
   "display_name": "Python 3",
   "language": "python",
   "name": "python3"
  },
  "language_info": {
   "codemirror_mode": {
    "name": "ipython",
    "version": 3
   },
   "file_extension": ".py",
   "mimetype": "text/x-python",
   "name": "python",
   "nbconvert_exporter": "python",
   "pygments_lexer": "ipython3",
   "version": "3.7.6"
  }
 },
 "nbformat": 4,
 "nbformat_minor": 4
}
