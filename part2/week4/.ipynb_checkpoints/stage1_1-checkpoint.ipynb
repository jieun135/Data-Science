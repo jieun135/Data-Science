{
 "cells": [
  {
   "cell_type": "code",
   "execution_count": 1,
   "metadata": {},
   "outputs": [],
   "source": [
    "data = {\n",
    "    \"name\" : [\"고양이\", \"펭귄\", \"닭\", \"타조\", \"참새\"],\n",
    "    \"wing\" : [\"False\", \"True\", \"True\", \"True\", \"True\"],\n",
    "    \"weight\": [\"light\", \"high\",\"high\",\"high\",\"light\"],\n",
    "    \"density\": [\"low\", \"high\", \"high\", \"high\", \"low\"],\n",
    "    \"fly\" : [\"False\",\"False\",\"False\",\"False\",\"True\"]\n",
    "}\n",
    "\n",
    "# True 나 False를 1 혹은 0으로 표시해도 괜춘 (간단하게 할 수 있는 거로 바꿔봐!)"
   ]
  },
  {
   "cell_type": "code",
   "execution_count": 2,
   "metadata": {},
   "outputs": [
    {
     "name": "stdout",
     "output_type": "stream",
     "text": [
      "고양이 날개 False\n",
      "펭귄 True\n"
     ]
    }
   ],
   "source": [
    "print(data[\"name\"][0],\"날개\", data[\"wing\"][0])\n",
    "\n",
    "print(data[\"name\"][1], data[\"wing\"][1])"
   ]
  },
  {
   "cell_type": "code",
   "execution_count": 3,
   "metadata": {},
   "outputs": [
    {
     "name": "stdout",
     "output_type": "stream",
     "text": [
      "참새\n",
      "날개 True\n",
      "몸무게 light\n",
      "골밀도 low\n",
      "날 수 있나? True\n"
     ]
    }
   ],
   "source": [
    "bird_no = 4\n",
    "print(data[\"name\"][bird_no])\n",
    "print(\"날개\", data[\"wing\"][bird_no])\n",
    "print(\"몸무게\", data[\"weight\"][bird_no])\n",
    "print(\"골밀도\", data[\"density\"][bird_no])\n",
    "print(\"날 수 있나?\", data[\"fly\"][bird_no])\n"
   ]
  },
  {
   "cell_type": "code",
   "execution_count": 4,
   "metadata": {},
   "outputs": [
    {
     "name": "stdout",
     "output_type": "stream",
     "text": [
      "펭귄가 날 수 있는지 확인합니다\n",
      "날 수 없음\n"
     ]
    }
   ],
   "source": [
    "# 카테고리 데이터의 Decision Tree 구현해보기\n",
    "target = 1\n",
    "\n",
    "print(data[\"name\"][target]+ \"가 날 수 있는지 확인합니다\")\n",
    "\n",
    "# Tree 만들기\n",
    "# True나 False는 굳이 안써줘도 됨\n",
    "\n",
    "if data[\"wing\"][target]:\n",
    "    if data[\"weight\"][target]==\"light\":   \n",
    "        print(\"날 수 있음!\")\n",
    "    else:\n",
    "        print(\"날 수 없음\")\n",
    "        if data[\"density\"][target]==\"low\":\n",
    "            print(\"날 수 있음\")\n",
    "else:\n",
    "    print(\"날 수 없음\")\n",
    "        "
   ]
  },
  {
   "cell_type": "code",
   "execution_count": 5,
   "metadata": {},
   "outputs": [],
   "source": [
    "# 연속적인 특성을 지닌 데이터의 Decision Tree 구현해보기 (개인적으로 하기)"
   ]
  },
  {
   "cell_type": "code",
   "execution_count": null,
   "metadata": {},
   "outputs": [],
   "source": []
  }
 ],
 "metadata": {
  "kernelspec": {
   "display_name": "Python 3",
   "language": "python",
   "name": "python3"
  },
  "language_info": {
   "codemirror_mode": {
    "name": "ipython",
    "version": 3
   },
   "file_extension": ".py",
   "mimetype": "text/x-python",
   "name": "python",
   "nbconvert_exporter": "python",
   "pygments_lexer": "ipython3",
   "version": "3.7.6"
  }
 },
 "nbformat": 4,
 "nbformat_minor": 4
}
