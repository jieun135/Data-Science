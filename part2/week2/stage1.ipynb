{
 "cells": [
  {
   "cell_type": "code",
   "execution_count": 1,
   "metadata": {},
   "outputs": [
    {
     "name": "stdout",
     "output_type": "stream",
     "text": [
      "Hello world\n"
     ]
    }
   ],
   "source": [
    "print('Hello world')"
   ]
  },
  {
   "cell_type": "markdown",
   "metadata": {},
   "source": [
    "markdown \n",
    "\n",
    "어떤 코드를 입력한다고 해서 오류가 나지 않는다.\n",
    "\n",
    "코드를 실행하는 code에서 문서화 할 수 있다. \n",
    "\n",
    "주석"
   ]
  },
  {
   "cell_type": "markdown",
   "metadata": {},
   "source": [
    "# 큰제목\n",
    "## 작은 제목\n",
    "일반텍스트\n",
    "*기울려주세요* \n",
    "**진하게 만든다**\n",
    "\n",
    "```파이썬```"
   ]
  },
  {
   "cell_type": "markdown",
   "metadata": {},
   "source": [
    "# 순서 없는 리스트 \n",
    "- 딸기 \n",
    "  - 빨간 \n",
    "    - r\n",
    "    - e\n",
    "    - d\n",
    "  - 초록\n",
    "- 배\n",
    "- 사과\n",
    "- 포도\n",
    "\n",
    "# 순서 있는 리스트 \n",
    "1. 박지성\n",
    "  1. 영국 \n",
    "  2. 한국\n",
    "2. 손흥민 \n",
    "3. 차두리"
   ]
  },
  {
   "cell_type": "markdown",
   "metadata": {},
   "source": [
    "# 이미지와 링크 작성하기\n",
    "---\n",
    "## 이미지 \n",
    "여기 이미지 만들기 \n",
    "![이미지 설명](이미지 주소)\n",
    "\n",
    "## 링크 \n",
    "링크\n",
    "[링크텍스트](링크)"
   ]
  },
  {
   "cell_type": "markdown",
   "metadata": {},
   "source": [
    "## 코드 넣기 \n",
    "코드입니다.\n",
    "```python\n",
    "print(\"hi\")\n",
    "```\n",
    "\n",
    "## 인용구\n",
    "안녕하세요 \n",
    "> 저는 ~~ 입니다.   \n",
    "> 저는 ㅎㅎㅎ입니다.\n"
   ]
  },
  {
   "cell_type": "markdown",
   "metadata": {},
   "source": [
    "## 표 만들기 \n",
    "이름|나이|전화번호\n",
    "-|-|-|\n",
    "철수|24|020\n",
    "영희|3|00"
   ]
  },
  {
   "cell_type": "code",
   "execution_count": 3,
   "metadata": {},
   "outputs": [],
   "source": [
    "import pandas as pd\n",
    "import numpy as np"
   ]
  },
  {
   "cell_type": "code",
   "execution_count": null,
   "metadata": {},
   "outputs": [],
   "source": []
  }
 ],
 "metadata": {
  "kernelspec": {
   "display_name": "Python 3",
   "language": "python",
   "name": "python3"
  },
  "language_info": {
   "codemirror_mode": {
    "name": "ipython",
    "version": 3
   },
   "file_extension": ".py",
   "mimetype": "text/x-python",
   "name": "python",
   "nbconvert_exporter": "python",
   "pygments_lexer": "ipython3",
   "version": "3.7.6"
  }
 },
 "nbformat": 4,
 "nbformat_minor": 4
}
